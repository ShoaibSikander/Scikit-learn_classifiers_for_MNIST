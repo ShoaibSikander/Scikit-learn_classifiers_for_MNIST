{
 "cells": [
  {
   "cell_type": "markdown",
   "metadata": {},
   "source": [
    "# Importing Libraries"
   ]
  },
  {
   "cell_type": "code",
   "execution_count": 1,
   "metadata": {},
   "outputs": [],
   "source": [
    "import numpy as np\n",
    "import matplotlib.pyplot as plt\n",
    "from sklearn import metrics\n",
    "from sklearn.ensemble.forest import RandomForestClassifier\n",
    "from sklearn.tree import DecisionTreeClassifier\n",
    "from sklearn.neighbors import KNeighborsClassifier\n",
    "from sklearn.neural_network import MLPClassifier\n",
    "from sklearn.ensemble import AdaBoostClassifier\n",
    "from sklearn.linear_model import LogisticRegression\n",
    "from sklearn.naive_bayes import MultinomialNB\n",
    "from sklearn.linear_model import RidgeClassifier\n",
    "from sklearn import datasets, svm\n",
    "from sklearn.model_selection import cross_val_score, cross_val_predict\n",
    "from sklearn.model_selection import GridSearchCV, RandomizedSearchCV, train_test_split\n",
    "from scipy.stats import randint\n",
    "import time\n",
    "import pickle\n",
    "from sklearn.externals import joblib\n",
    "from pprint import pprint\n",
    "import random"
   ]
  },
  {
   "cell_type": "markdown",
   "metadata": {},
   "source": [
    "# Loading and Pre-processing the data"
   ]
  },
  {
   "cell_type": "code",
   "execution_count": 2,
   "metadata": {},
   "outputs": [],
   "source": [
    "digits = datasets.load_digits()\n",
    "imgs = digits.images\n",
    "labels = digits.target"
   ]
  },
  {
   "cell_type": "code",
   "execution_count": 3,
   "metadata": {},
   "outputs": [
    {
     "name": "stdout",
     "output_type": "stream",
     "text": [
      "Images Shape :  (1797, 8, 8)\n",
      "Labels Shape :  (1797,)\n"
     ]
    }
   ],
   "source": [
    "print('Images Shape : ', imgs.shape)\n",
    "print('Labels Shape : ', labels.shape)"
   ]
  },
  {
   "cell_type": "code",
   "execution_count": 4,
   "metadata": {},
   "outputs": [],
   "source": [
    "x_train, x_test, y_train, y_test = train_test_split(imgs, labels, test_size=0.2, random_state=42)"
   ]
  },
  {
   "cell_type": "code",
   "execution_count": 5,
   "metadata": {},
   "outputs": [],
   "source": [
    "#print('Train Dataset', x_train.shape)\n",
    "#print('Test Dataset', x_test.shape)\n",
    "\n",
    "#print('Training Set Labels', y_train.shape)\n",
    "#print('Testing Set Labels', y_test.shape)"
   ]
  },
  {
   "cell_type": "code",
   "execution_count": 6,
   "metadata": {},
   "outputs": [
    {
     "name": "stdout",
     "output_type": "stream",
     "text": [
      "Train Dataset (1437, 8, 8)\n",
      "Test Dataset (360, 8, 8)\n",
      "Training Set Labels (1437,)\n",
      "Testing Set Labels (360,)\n"
     ]
    }
   ],
   "source": [
    "print('Train Dataset', x_train.shape)\n",
    "print('Test Dataset', x_test.shape)\n",
    "\n",
    "print('Training Set Labels', y_train.shape)\n",
    "print('Testing Set Labels', y_test.shape)"
   ]
  },
  {
   "cell_type": "code",
   "execution_count": 7,
   "metadata": {},
   "outputs": [],
   "source": [
    "#train_samples, tr_x, tr_y = x_train.shape\n",
    "#train_dataset = x_train.reshape((train_samples, tr_x*tr_y))\n",
    "\n",
    "#test_samples, ts_x, ts_y = x_test.shape\n",
    "#test_dataset = x_test.reshape((test_samples, ts_x*ts_y))"
   ]
  },
  {
   "cell_type": "code",
   "execution_count": 8,
   "metadata": {},
   "outputs": [],
   "source": [
    "train_samples, tr_x, tr_y = x_train.shape\n",
    "train_dataset = x_train.reshape((train_samples, tr_x*tr_y))\n",
    "\n",
    "test_samples, ts_x, ts_y = x_test.shape\n",
    "test_dataset = x_test.reshape((test_samples, ts_x*ts_y))"
   ]
  },
  {
   "cell_type": "code",
   "execution_count": 9,
   "metadata": {},
   "outputs": [
    {
     "name": "stdout",
     "output_type": "stream",
     "text": [
      "Train Dataset (1437, 64)\n",
      "Test Dataset (360, 64)\n",
      "Training Set Labels (1437,)\n",
      "Testing Set Labels (360,)\n"
     ]
    }
   ],
   "source": [
    "print('Train Dataset', train_dataset.shape)\n",
    "print('Test Dataset', test_dataset.shape)\n",
    "\n",
    "print('Training Set Labels', y_train.shape)\n",
    "print('Testing Set Labels', y_test.shape)"
   ]
  },
  {
   "cell_type": "code",
   "execution_count": 10,
   "metadata": {},
   "outputs": [],
   "source": [
    "no_cv = 10\n",
    "no_iter = 10\n",
    "no_verbose = 1\n",
    "no_process = -1"
   ]
  },
  {
   "cell_type": "markdown",
   "metadata": {},
   "source": [
    "# Training, Testing & Saving the Models"
   ]
  },
  {
   "cell_type": "markdown",
   "metadata": {},
   "source": [
    "## Decision Tree Classifier"
   ]
  },
  {
   "cell_type": "code",
   "execution_count": 11,
   "metadata": {},
   "outputs": [
    {
     "name": "stdout",
     "output_type": "stream",
     "text": [
      "Fitting 10 folds for each of 10 candidates, totalling 100 fits\n"
     ]
    },
    {
     "name": "stderr",
     "output_type": "stream",
     "text": [
      "[Parallel(n_jobs=-1)]: Done  34 tasks      | elapsed:    2.0s\n",
      "[Parallel(n_jobs=-1)]: Done 100 out of 100 | elapsed:    2.3s finished\n"
     ]
    }
   ],
   "source": [
    "clf_DT = DecisionTreeClassifier()\n",
    "param_dist = {\"criterion\":[\"gini\", \"entropy\"], \"splitter\":[\"best\", \"random\"], \"max_depth\":[None], \"min_samples_split\":[2,3,4,5,6,7,8,9,10,11,12,13,14,15], \"min_samples_leaf\":[1,2,3,4,5,6,7,8,9,10,11]}\n",
    "classifier_Decision_Tree = RandomizedSearchCV(estimator = clf_DT, param_distributions = param_dist, n_iter=no_iter, cv=no_cv, verbose=no_verbose, random_state=5, n_jobs=no_process)\n",
    "\n",
    "start_training_Decision_Tree = time.time()\n",
    "classifier_Decision_Tree.fit(train_dataset, y_train)\n",
    "end_training_Decision_Tree = time.time()"
   ]
  },
  {
   "cell_type": "code",
   "execution_count": 12,
   "metadata": {},
   "outputs": [
    {
     "name": "stderr",
     "output_type": "stream",
     "text": [
      "C:\\Users\\Shoaib\\Anaconda3\\lib\\site-packages\\sklearn\\model_selection\\_search.py:761: DeprecationWarning: The grid_scores_ attribute was deprecated in version 0.18 in favor of the more elaborate cv_results_ attribute. The grid_scores_ attribute will not be available from 0.20\n",
      "  DeprecationWarning)\n"
     ]
    },
    {
     "data": {
      "text/plain": [
       "[mean: 0.83159, std: 0.02455, params: {'splitter': 'best', 'min_samples_split': 4, 'min_samples_leaf': 8, 'max_depth': None, 'criterion': 'entropy'},\n",
       " mean: 0.82185, std: 0.02807, params: {'splitter': 'best', 'min_samples_split': 14, 'min_samples_leaf': 2, 'max_depth': None, 'criterion': 'gini'},\n",
       " mean: 0.84899, std: 0.01933, params: {'splitter': 'best', 'min_samples_split': 11, 'min_samples_leaf': 6, 'max_depth': None, 'criterion': 'entropy'},\n",
       " mean: 0.78706, std: 0.02500, params: {'splitter': 'random', 'min_samples_split': 3, 'min_samples_leaf': 10, 'max_depth': None, 'criterion': 'entropy'},\n",
       " mean: 0.85943, std: 0.02761, params: {'splitter': 'best', 'min_samples_split': 5, 'min_samples_leaf': 5, 'max_depth': None, 'criterion': 'entropy'},\n",
       " mean: 0.84412, std: 0.03010, params: {'splitter': 'best', 'min_samples_split': 2, 'min_samples_leaf': 2, 'max_depth': None, 'criterion': 'gini'},\n",
       " mean: 0.83786, std: 0.03311, params: {'splitter': 'random', 'min_samples_split': 8, 'min_samples_leaf': 5, 'max_depth': None, 'criterion': 'entropy'},\n",
       " mean: 0.81698, std: 0.01637, params: {'splitter': 'best', 'min_samples_split': 15, 'min_samples_leaf': 11, 'max_depth': None, 'criterion': 'entropy'},\n",
       " mean: 0.81628, std: 0.01521, params: {'splitter': 'best', 'min_samples_split': 12, 'min_samples_leaf': 10, 'max_depth': None, 'criterion': 'entropy'},\n",
       " mean: 0.78149, std: 0.02972, params: {'splitter': 'random', 'min_samples_split': 10, 'min_samples_leaf': 11, 'max_depth': None, 'criterion': 'gini'}]"
      ]
     },
     "execution_count": 12,
     "metadata": {},
     "output_type": "execute_result"
    }
   ],
   "source": [
    "classifier_Decision_Tree.grid_scores_"
   ]
  },
  {
   "cell_type": "code",
   "execution_count": 13,
   "metadata": {},
   "outputs": [
    {
     "name": "stdout",
     "output_type": "stream",
     "text": [
      "Best Accuracy :  0.8594293667362561\n",
      "Best Index :  4\n",
      "Best Parameters :  {'splitter': 'best', 'min_samples_split': 5, 'min_samples_leaf': 5, 'max_depth': None, 'criterion': 'entropy'}\n",
      "Best Estimator :  DecisionTreeClassifier(class_weight=None, criterion='entropy', max_depth=None,\n",
      "            max_features=None, max_leaf_nodes=None,\n",
      "            min_impurity_decrease=0.0, min_impurity_split=None,\n",
      "            min_samples_leaf=5, min_samples_split=5,\n",
      "            min_weight_fraction_leaf=0.0, presort=False, random_state=None,\n",
      "            splitter='best')\n",
      "Mean Time of each validation :  [0.01964767 0.02184143 0.0303184  0.00668232 0.02642915 0.02174108\n",
      " 0.00718071 0.02373595 0.01655557 0.00438786]\n",
      "Time for all cross-validations of best index :  0.26429152488708496 seconds\n",
      "Total Training Time Decision Tree Classifier :  2.6299681663513184 seconds\n"
     ]
    }
   ],
   "source": [
    "best_score_DT = classifier_Decision_Tree.best_score_\n",
    "best_index_DT = classifier_Decision_Tree.best_index_\n",
    "best_parameters_DT = classifier_Decision_Tree.best_params_\n",
    "best_estimator_DT = classifier_Decision_Tree.best_estimator_\n",
    "time_for_all_validations_DT = classifier_Decision_Tree.cv_results_['mean_fit_time']\n",
    "time_best_index_DT = time_for_all_validations_DT[best_index_DT]\n",
    "\n",
    "print('Best Accuracy : ', best_score_DT)\n",
    "print('Best Index : ', best_index_DT)\n",
    "print('Best Parameters : ', best_parameters_DT)\n",
    "print('Best Estimator : ', best_estimator_DT)\n",
    "print('Mean Time of each validation : ', time_for_all_validations_DT)\n",
    "print('Time for all cross-validations of best index : ', time_best_index_DT*no_cv, 'seconds')\n",
    "\n",
    "training_time_Decision_Tree = end_training_Decision_Tree - start_training_Decision_Tree\n",
    "print('Total Training Time Decision Tree Classifier : ', training_time_Decision_Tree, 'seconds')"
   ]
  },
  {
   "cell_type": "code",
   "execution_count": 14,
   "metadata": {},
   "outputs": [
    {
     "name": "stdout",
     "output_type": "stream",
     "text": [
      "Predicted Labels :  [6 9 3 7 2 1 5 3 5 7 1 9 0 0 4 8 3 7 8 8 4 3 9 7 5 6 3 5 6 3 4 9 1 4 4 6 9\n",
      " 4 7 6 6 9 1 3 6 1 3 0 6 5 5 1 1 5 6 0 9 0 0 1 7 4 5 5 4 5 7 0 7 5 9 5 5 0\n",
      " 7 0 4 5 5 9 9 0 2 3 8 0 6 4 4 9 1 2 8 3 5 2 9 4 4 4 4 3 5 3 1 1 5 7 4 2 0\n",
      " 7 4 5 1 9 8 7 8 7 2 6 9 4 0 1 5 7 5 8 7 5 1 9 0 6 6 4 2 8 0 9 4 6 9 9 6 9\n",
      " 0 3 5 6 6 0 6 4 1 9 3 7 7 2 9 0 4 5 2 6 5 9 9 4 4 2 1 3 7 1 2 2 3 9 8 0 3\n",
      " 2 4 5 6 9 9 8 1 6 7 2 3 6 4 8 5 9 5 7 2 9 4 8 1 5 4 4 9 6 1 8 6 0 7 5 2 7\n",
      " 4 6 4 1 6 0 3 2 3 6 7 9 5 2 4 7 6 5 8 5 5 1 0 2 8 8 9 5 7 4 2 1 2 3 1 8 5\n",
      " 3 6 0 9 7 7 0 1 0 4 5 1 5 3 6 0 4 1 0 0 3 6 5 9 7 3 5 5 9 9 8 5 3 3 2 0 5\n",
      " 8 3 4 0 2 4 6 4 3 4 5 0 5 2 1 3 1 4 1 1 7 0 1 5 2 1 2 8 7 0 6 4 8 8 5 1 8\n",
      " 1 5 8 7 9 8 6 0 1 1 0 7 9 8 9 5 2 7 7 9 3 7 4 3 4 3 5]\n",
      "Actual Labels :  [6 9 3 7 2 1 5 2 5 2 1 9 4 0 4 2 3 7 8 8 4 3 9 7 5 6 3 5 6 3 4 9 1 4 4 6 9\n",
      " 4 7 6 6 9 1 3 6 1 3 0 6 5 5 1 9 5 6 0 9 0 0 1 0 4 5 2 4 5 7 0 7 5 9 5 5 4\n",
      " 7 0 4 5 5 9 9 0 2 3 8 0 6 4 4 9 1 2 8 3 5 2 9 0 4 4 4 3 5 3 1 3 5 9 4 2 7\n",
      " 7 4 4 1 9 2 7 8 7 2 6 9 4 0 7 2 7 5 8 7 5 7 7 0 6 6 4 2 8 0 9 4 6 9 9 6 9\n",
      " 0 3 5 6 6 0 6 4 3 9 3 9 7 2 9 0 4 5 3 6 5 9 9 8 4 2 1 3 7 7 2 2 3 9 8 0 3\n",
      " 2 2 5 6 9 9 4 1 5 4 2 3 6 4 8 5 9 5 7 8 9 4 8 1 5 4 4 9 6 1 8 6 0 4 5 2 7\n",
      " 4 6 4 5 6 0 3 2 3 6 7 1 5 1 4 7 6 8 8 5 5 1 6 2 8 8 9 9 7 6 2 2 2 3 4 8 8\n",
      " 3 6 0 9 7 7 0 1 0 4 5 1 5 3 6 0 4 1 0 0 3 6 5 9 7 3 5 5 9 9 8 5 3 3 2 0 5\n",
      " 8 3 4 0 2 4 6 4 3 4 5 0 5 2 1 3 1 4 1 1 7 0 1 5 2 1 2 8 7 0 6 4 8 8 5 1 8\n",
      " 4 5 8 7 9 8 5 0 6 2 0 7 9 8 9 5 2 7 7 1 8 7 4 3 8 3 5]\n",
      "Predicted Labels Shape :  (360,)\n",
      "Actual Labels Shape :  (360,)\n",
      "Test Accuracy :  0.8722222222222222\n",
      "Testing Time :  0.0\n"
     ]
    }
   ],
   "source": [
    "start_testing_Decision_Tree = time.time()\n",
    "predict_Decision_Tree = classifier_Decision_Tree.predict(test_dataset)\n",
    "end_testing_Decision_Tree = time.time()\n",
    "\n",
    "print('Predicted Labels : ', predict_Decision_Tree)\n",
    "print('Actual Labels : ', y_test)\n",
    "print('Predicted Labels Shape : ', predict_Decision_Tree.shape)\n",
    "print('Actual Labels Shape : ', y_test.shape)\n",
    "\n",
    "test_score_Decision_Tree = classifier_Decision_Tree.score(test_dataset, y_test)\n",
    "print('Test Accuracy : ', test_score_Decision_Tree)\n",
    "\n",
    "testing_time_Decision_Tree = end_testing_Decision_Tree - start_testing_Decision_Tree\n",
    "print('Testing Time : ', testing_time_Decision_Tree)"
   ]
  },
  {
   "cell_type": "code",
   "execution_count": 15,
   "metadata": {},
   "outputs": [
    {
     "name": "stdout",
     "output_type": "stream",
     "text": [
      "Predicted Labels :  [6 9 3 7 2 1 5 3 5 7 1 9 0 0 4 8 3 7 8 8 4 3 9 7 5 6 3 5 6 3 4 9 1 4 4 6 9\n",
      " 4 7 6 6 9 1 3 6 1 3 0 6 5 5 1 1 5 6 0 9 0 0 1 7 4 5 5 4 5 7 0 7 5 9 5 5 0\n",
      " 7 0 4 5 5 9 9 0 2 3 8 0 6 4 4 9 1 2 8 3 5 2 9 4 4 4 4 3 5 3 1 1 5 7 4 2 0\n",
      " 7 4 5 1 9 8 7 8 7 2 6 9 4 0 1 5 7 5 8 7 5 1 9 0 6 6 4 2 8 0 9 4 6 9 9 6 9\n",
      " 0 3 5 6 6 0 6 4 1 9 3 7 7 2 9 0 4 5 2 6 5 9 9 4 4 2 1 3 7 1 2 2 3 9 8 0 3\n",
      " 2 4 5 6 9 9 8 1 6 7 2 3 6 4 8 5 9 5 7 2 9 4 8 1 5 4 4 9 6 1 8 6 0 7 5 2 7\n",
      " 4 6 4 1 6 0 3 2 3 6 7 9 5 2 4 7 6 5 8 5 5 1 0 2 8 8 9 5 7 4 2 1 2 3 1 8 5\n",
      " 3 6 0 9 7 7 0 1 0 4 5 1 5 3 6 0 4 1 0 0 3 6 5 9 7 3 5 5 9 9 8 5 3 3 2 0 5\n",
      " 8 3 4 0 2 4 6 4 3 4 5 0 5 2 1 3 1 4 1 1 7 0 1 5 2 1 2 8 7 0 6 4 8 8 5 1 8\n",
      " 1 5 8 7 9 8 6 0 1 1 0 7 9 8 9 5 2 7 7 9 3 7 4 3 4 3 5]\n",
      "Test Accuracy :  0.8722222222222222\n",
      "Testing Time :  0.0\n"
     ]
    }
   ],
   "source": [
    "# To save model\n",
    "model_DT = 'Model_Decision_Tree.sav'\n",
    "joblib.dump(classifier_Decision_Tree, model_DT)\n",
    "\n",
    "# To load model\n",
    "loaded_model_Decision_Tree = joblib.load(model_DT)\n",
    "\n",
    "# Operations with loaded model\n",
    "start_testing_Decision_Tree = time.time()\n",
    "predict_Decision_Tree = loaded_model_Decision_Tree.predict(test_dataset)\n",
    "#predict_prob_Decision_Tree = loaded_model_Decision_Tree.predict_proba(test_dataset)\n",
    "end_testing_Decision_Tree = time.time()\n",
    "\n",
    "print('Predicted Labels : ', predict_Decision_Tree)\n",
    "test_score_Decision_Tree = metrics.accuracy_score(y_test, predict_Decision_Tree)\n",
    "print('Test Accuracy : ', test_score_Decision_Tree)\n",
    "\n",
    "testing_time_Decision_Tree = end_testing_Decision_Tree - start_testing_Decision_Tree\n",
    "print('Testing Time : ', testing_time_Decision_Tree)"
   ]
  },
  {
   "cell_type": "markdown",
   "metadata": {},
   "source": [
    "## Random Forest Classifier"
   ]
  },
  {
   "cell_type": "code",
   "execution_count": 16,
   "metadata": {},
   "outputs": [
    {
     "name": "stdout",
     "output_type": "stream",
     "text": [
      "Default Parameters currently in use:\n",
      "\n",
      "{'bootstrap': True,\n",
      " 'class_weight': None,\n",
      " 'criterion': 'gini',\n",
      " 'max_depth': None,\n",
      " 'max_features': 'auto',\n",
      " 'max_leaf_nodes': None,\n",
      " 'min_impurity_decrease': 0.0,\n",
      " 'min_impurity_split': None,\n",
      " 'min_samples_leaf': 1,\n",
      " 'min_samples_split': 2,\n",
      " 'min_weight_fraction_leaf': 0.0,\n",
      " 'n_estimators': 10,\n",
      " 'n_jobs': 1,\n",
      " 'oob_score': False,\n",
      " 'random_state': None,\n",
      " 'verbose': 0,\n",
      " 'warm_start': False}\n"
     ]
    }
   ],
   "source": [
    "clf_RF = RandomForestClassifier()\n",
    "print('Default Parameters currently in use:\\n')\n",
    "pprint(clf_RF.get_params())"
   ]
  },
  {
   "cell_type": "code",
   "execution_count": 17,
   "metadata": {},
   "outputs": [],
   "source": [
    "# Number of trees in random forest\n",
    "n_estimators = [i for i in range(10,2000)]\n",
    "\n",
    "# The function to measure the quality of a split\n",
    "criterion = [\"gini\", \"entropy\"]\n",
    "\n",
    "# Maximum number of levels in tree\n",
    "max_depth = [None]\n",
    "\n",
    "# Minimum number of samples required to split a node\n",
    "min_samples_split = [2, 3, 5, 8, 10]\n",
    "\n",
    "# Minimum number of samples required at each leaf node\n",
    "min_samples_leaf = [1, 2, 4]\n",
    "\n",
    "# Number of features to consider at every split\n",
    "max_features = ['auto', 'sqrt']    \n",
    "\n",
    "# Method of selecting samples for training each tree\n",
    "bootstrap = [True, False]"
   ]
  },
  {
   "cell_type": "code",
   "execution_count": 18,
   "metadata": {},
   "outputs": [
    {
     "name": "stdout",
     "output_type": "stream",
     "text": [
      "Fitting 10 folds for each of 10 candidates, totalling 100 fits\n"
     ]
    },
    {
     "name": "stderr",
     "output_type": "stream",
     "text": [
      "[Parallel(n_jobs=-1)]: Done  34 tasks      | elapsed:   21.9s\n",
      "[Parallel(n_jobs=-1)]: Done 100 out of 100 | elapsed:  1.1min finished\n"
     ]
    }
   ],
   "source": [
    "# Create the random grid\n",
    "random_grid = {'n_estimators': n_estimators, 'max_features': max_features,'max_depth': max_depth, 'min_samples_split': min_samples_split, 'min_samples_leaf': min_samples_leaf, 'bootstrap': bootstrap}\n",
    "\n",
    "# Random search of parameters, using 10 fold cross validation,search across 10 different combinations, and use all available cores\n",
    "classifier_Random_Forest = RandomizedSearchCV(estimator = clf_RF, param_distributions = random_grid, n_iter=no_iter, cv=no_cv, verbose=no_verbose, random_state=42, n_jobs=no_process)\n",
    "\n",
    "# Fit the random search model\n",
    "start_training_Random_Forest = time.time()\n",
    "classifier_Random_Forest.fit(train_dataset, y_train)\n",
    "end_training_Random_Forest = time.time()"
   ]
  },
  {
   "cell_type": "code",
   "execution_count": 19,
   "metadata": {},
   "outputs": [
    {
     "name": "stderr",
     "output_type": "stream",
     "text": [
      "C:\\Users\\Shoaib\\Anaconda3\\lib\\site-packages\\sklearn\\model_selection\\_search.py:761: DeprecationWarning: The grid_scores_ attribute was deprecated in version 0.18 in favor of the more elaborate cv_results_ attribute. The grid_scores_ attribute will not be available from 0.20\n",
      "  DeprecationWarning)\n"
     ]
    },
    {
     "data": {
      "text/plain": [
       "[mean: 0.97147, std: 0.01609, params: {'n_estimators': 1875, 'min_samples_split': 5, 'min_samples_leaf': 2, 'max_features': 'auto', 'max_depth': None, 'bootstrap': True},\n",
       " mean: 0.97216, std: 0.01593, params: {'n_estimators': 870, 'min_samples_split': 2, 'min_samples_leaf': 1, 'max_features': 'auto', 'max_depth': None, 'bootstrap': True},\n",
       " mean: 0.97564, std: 0.01242, params: {'n_estimators': 224, 'min_samples_split': 5, 'min_samples_leaf': 2, 'max_features': 'sqrt', 'max_depth': None, 'bootstrap': False},\n",
       " mean: 0.97077, std: 0.01283, params: {'n_estimators': 828, 'min_samples_split': 2, 'min_samples_leaf': 4, 'max_features': 'sqrt', 'max_depth': None, 'bootstrap': False},\n",
       " mean: 0.97495, std: 0.01193, params: {'n_estimators': 1210, 'min_samples_split': 8, 'min_samples_leaf': 2, 'max_features': 'auto', 'max_depth': None, 'bootstrap': False},\n",
       " mean: 0.96938, std: 0.01585, params: {'n_estimators': 1166, 'min_samples_split': 5, 'min_samples_leaf': 4, 'max_features': 'sqrt', 'max_depth': None, 'bootstrap': True},\n",
       " mean: 0.97216, std: 0.01361, params: {'n_estimators': 305, 'min_samples_split': 8, 'min_samples_leaf': 1, 'max_features': 'auto', 'max_depth': None, 'bootstrap': True},\n",
       " mean: 0.97147, std: 0.01418, params: {'n_estimators': 806, 'min_samples_split': 3, 'min_samples_leaf': 4, 'max_features': 'auto', 'max_depth': None, 'bootstrap': False},\n",
       " mean: 0.97216, std: 0.01398, params: {'n_estimators': 1384, 'min_samples_split': 8, 'min_samples_leaf': 1, 'max_features': 'sqrt', 'max_depth': None, 'bootstrap': True},\n",
       " mean: 0.97356, std: 0.01323, params: {'n_estimators': 1938, 'min_samples_split': 8, 'min_samples_leaf': 4, 'max_features': 'auto', 'max_depth': None, 'bootstrap': False}]"
      ]
     },
     "execution_count": 19,
     "metadata": {},
     "output_type": "execute_result"
    }
   ],
   "source": [
    "classifier_Random_Forest.grid_scores_"
   ]
  },
  {
   "cell_type": "code",
   "execution_count": 20,
   "metadata": {},
   "outputs": [
    {
     "name": "stdout",
     "output_type": "stream",
     "text": [
      "Best Accuracy :  0.9756437021572721\n",
      "Best Index :  2\n",
      "Best Parameters :  {'n_estimators': 224, 'min_samples_split': 5, 'min_samples_leaf': 2, 'max_features': 'sqrt', 'max_depth': None, 'bootstrap': False}\n",
      "Best Estimator :  RandomForestClassifier(bootstrap=False, class_weight=None, criterion='gini',\n",
      "            max_depth=None, max_features='sqrt', max_leaf_nodes=None,\n",
      "            min_impurity_decrease=0.0, min_impurity_split=None,\n",
      "            min_samples_leaf=2, min_samples_split=5,\n",
      "            min_weight_fraction_leaf=0.0, n_estimators=224, n_jobs=1,\n",
      "            oob_score=False, random_state=None, verbose=0,\n",
      "            warm_start=False)\n",
      "Mean Time of each validation :  [6.71255307 3.34326065 1.09217889 4.08328273 5.93533099 4.40970895\n",
      " 1.23011022 3.90047128 5.60840511 8.75319591]\n",
      "Time for all cross-validations of best index :  10.921788930892944 seconds\n",
      "Total Time :  68.81601238250732\n"
     ]
    }
   ],
   "source": [
    "best_score_RF = classifier_Random_Forest.best_score_\n",
    "best_index_RF = classifier_Random_Forest.best_index_\n",
    "best_parameters_RF = classifier_Random_Forest.best_params_\n",
    "best_estimator_RF = classifier_Random_Forest.best_estimator_\n",
    "time_for_all_validations_RF = classifier_Random_Forest.cv_results_['mean_fit_time']\n",
    "time_best_index_RF = time_for_all_validations_RF[best_index_RF]\n",
    "\n",
    "print('Best Accuracy : ', best_score_RF)\n",
    "print('Best Index : ', best_index_RF)\n",
    "print('Best Parameters : ', best_parameters_RF)\n",
    "print('Best Estimator : ', best_estimator_RF)\n",
    "print('Mean Time of each validation : ', time_for_all_validations_RF)\n",
    "print('Time for all cross-validations of best index : ', time_best_index_RF*no_cv, 'seconds')\n",
    "\n",
    "training_time_Random_Forest = end_training_Random_Forest - start_training_Random_Forest\n",
    "print('Total Time : ', training_time_Random_Forest)"
   ]
  },
  {
   "cell_type": "code",
   "execution_count": 21,
   "metadata": {},
   "outputs": [
    {
     "name": "stdout",
     "output_type": "stream",
     "text": [
      "Predicted Labels :  [6 9 3 7 2 1 5 2 5 2 1 9 4 0 4 2 3 7 8 8 4 3 9 7 5 6 3 5 6 3 4 9 1 4 4 6 9\n",
      " 4 7 6 6 9 1 3 6 1 3 0 6 5 5 1 9 5 6 0 9 0 0 1 0 4 5 2 4 5 7 0 7 5 9 5 5 4\n",
      " 7 0 4 5 5 9 9 0 2 3 8 0 6 4 4 9 1 2 8 3 5 2 9 4 4 4 4 3 5 3 1 3 5 9 4 2 7\n",
      " 7 4 4 1 9 2 7 8 7 2 6 9 4 0 7 2 7 5 8 7 5 7 9 0 6 6 4 2 8 0 9 4 6 9 9 6 9\n",
      " 0 5 5 6 6 0 6 4 3 9 3 4 7 2 9 0 4 5 3 6 5 9 9 8 4 2 1 3 7 7 2 2 3 9 8 0 3\n",
      " 2 2 5 6 9 9 4 1 5 4 2 3 6 4 8 5 9 5 7 1 9 4 8 1 5 4 4 9 6 1 8 6 0 4 5 2 7\n",
      " 4 6 4 5 6 0 3 2 3 6 7 1 5 1 4 7 6 8 8 5 5 1 5 2 8 8 9 5 7 6 2 2 2 3 4 8 8\n",
      " 3 6 0 9 7 7 0 1 0 4 5 1 5 3 6 0 4 1 0 0 3 6 5 9 7 3 5 5 9 9 8 5 3 3 2 0 5\n",
      " 8 3 4 0 2 4 6 4 3 4 5 0 5 2 1 3 1 4 1 1 7 0 1 5 2 1 2 8 7 0 6 4 8 8 5 1 8\n",
      " 4 5 8 7 9 8 6 0 6 2 0 7 9 8 9 5 2 7 7 1 8 7 4 3 8 3 5]\n",
      "Actual Labels :  [6 9 3 7 2 1 5 2 5 2 1 9 4 0 4 2 3 7 8 8 4 3 9 7 5 6 3 5 6 3 4 9 1 4 4 6 9\n",
      " 4 7 6 6 9 1 3 6 1 3 0 6 5 5 1 9 5 6 0 9 0 0 1 0 4 5 2 4 5 7 0 7 5 9 5 5 4\n",
      " 7 0 4 5 5 9 9 0 2 3 8 0 6 4 4 9 1 2 8 3 5 2 9 0 4 4 4 3 5 3 1 3 5 9 4 2 7\n",
      " 7 4 4 1 9 2 7 8 7 2 6 9 4 0 7 2 7 5 8 7 5 7 7 0 6 6 4 2 8 0 9 4 6 9 9 6 9\n",
      " 0 3 5 6 6 0 6 4 3 9 3 9 7 2 9 0 4 5 3 6 5 9 9 8 4 2 1 3 7 7 2 2 3 9 8 0 3\n",
      " 2 2 5 6 9 9 4 1 5 4 2 3 6 4 8 5 9 5 7 8 9 4 8 1 5 4 4 9 6 1 8 6 0 4 5 2 7\n",
      " 4 6 4 5 6 0 3 2 3 6 7 1 5 1 4 7 6 8 8 5 5 1 6 2 8 8 9 9 7 6 2 2 2 3 4 8 8\n",
      " 3 6 0 9 7 7 0 1 0 4 5 1 5 3 6 0 4 1 0 0 3 6 5 9 7 3 5 5 9 9 8 5 3 3 2 0 5\n",
      " 8 3 4 0 2 4 6 4 3 4 5 0 5 2 1 3 1 4 1 1 7 0 1 5 2 1 2 8 7 0 6 4 8 8 5 1 8\n",
      " 4 5 8 7 9 8 5 0 6 2 0 7 9 8 9 5 2 7 7 1 8 7 4 3 8 3 5]\n",
      "Predicted Labels Shape :  (360,)\n",
      "Actual Labels Shape :  (360,)\n",
      "Test Accuracy :  0.9777777777777777\n",
      "Prediction Time :  0.027924537658691406\n"
     ]
    }
   ],
   "source": [
    "start_testing_Random_Forest = time.time()\n",
    "predict_Random_Forest = classifier_Random_Forest.predict(test_dataset)\n",
    "end_testing_Random_Forest = time.time()\n",
    "\n",
    "print('Predicted Labels : ', predict_Random_Forest)\n",
    "print('Actual Labels : ', y_test)\n",
    "print('Predicted Labels Shape : ', predict_Random_Forest.shape)\n",
    "print('Actual Labels Shape : ', y_test.shape)\n",
    "\n",
    "test_score_Random_Forest = classifier_Random_Forest.score(test_dataset, y_test)\n",
    "print('Test Accuracy : ', test_score_Random_Forest)\n",
    "\n",
    "testing_time_Random_Forest = end_testing_Random_Forest - start_testing_Random_Forest\n",
    "print('Prediction Time : ', testing_time_Random_Forest)"
   ]
  },
  {
   "cell_type": "code",
   "execution_count": 22,
   "metadata": {},
   "outputs": [
    {
     "name": "stdout",
     "output_type": "stream",
     "text": [
      "Predicted Labels :  [6 9 3 7 2 1 5 2 5 2 1 9 4 0 4 2 3 7 8 8 4 3 9 7 5 6 3 5 6 3 4 9 1 4 4 6 9\n",
      " 4 7 6 6 9 1 3 6 1 3 0 6 5 5 1 9 5 6 0 9 0 0 1 0 4 5 2 4 5 7 0 7 5 9 5 5 4\n",
      " 7 0 4 5 5 9 9 0 2 3 8 0 6 4 4 9 1 2 8 3 5 2 9 4 4 4 4 3 5 3 1 3 5 9 4 2 7\n",
      " 7 4 4 1 9 2 7 8 7 2 6 9 4 0 7 2 7 5 8 7 5 7 9 0 6 6 4 2 8 0 9 4 6 9 9 6 9\n",
      " 0 5 5 6 6 0 6 4 3 9 3 4 7 2 9 0 4 5 3 6 5 9 9 8 4 2 1 3 7 7 2 2 3 9 8 0 3\n",
      " 2 2 5 6 9 9 4 1 5 4 2 3 6 4 8 5 9 5 7 1 9 4 8 1 5 4 4 9 6 1 8 6 0 4 5 2 7\n",
      " 4 6 4 5 6 0 3 2 3 6 7 1 5 1 4 7 6 8 8 5 5 1 5 2 8 8 9 5 7 6 2 2 2 3 4 8 8\n",
      " 3 6 0 9 7 7 0 1 0 4 5 1 5 3 6 0 4 1 0 0 3 6 5 9 7 3 5 5 9 9 8 5 3 3 2 0 5\n",
      " 8 3 4 0 2 4 6 4 3 4 5 0 5 2 1 3 1 4 1 1 7 0 1 5 2 1 2 8 7 0 6 4 8 8 5 1 8\n",
      " 4 5 8 7 9 8 6 0 6 2 0 7 9 8 9 5 2 7 7 1 8 7 4 3 8 3 5]\n",
      "Test Accuracy :  0.9777777777777777\n",
      "Testing Time :  0.02792501449584961\n"
     ]
    }
   ],
   "source": [
    "# To save model\n",
    "model_RF = 'Model_Random_Forest.sav'\n",
    "pickle.dump(classifier_Random_Forest, open(model_RF, 'wb'))\n",
    "\n",
    "# To load model\n",
    "loaded_model_Random_Forest = pickle.load(open(model_RF, 'rb'))\n",
    "\n",
    "# Operations with loaded model\n",
    "start_testing_Random_Forest = time.time()\n",
    "predict_Random_Forest = loaded_model_Random_Forest.predict(test_dataset)\n",
    "#predict_prob_Random_Forest = loaded_model_Random_Forest.predict_proba(test_dataset)\n",
    "end_testing_Random_Forest = time.time()\n",
    "\n",
    "print('Predicted Labels : ', predict_Random_Forest)\n",
    "test_score_Random_Forest = metrics.accuracy_score(y_test, predict_Random_Forest)\n",
    "print('Test Accuracy : ', test_score_Random_Forest)\n",
    "\n",
    "testing_time_Random_Forest = end_testing_Random_Forest - start_testing_Random_Forest\n",
    "print('Testing Time : ', testing_time_Random_Forest)"
   ]
  },
  {
   "cell_type": "markdown",
   "metadata": {},
   "source": [
    "## AdaBoost Classifier"
   ]
  },
  {
   "cell_type": "code",
   "execution_count": 23,
   "metadata": {},
   "outputs": [
    {
     "name": "stdout",
     "output_type": "stream",
     "text": [
      "Default Parameters currently in use:\n",
      "\n",
      "{'algorithm': 'SAMME.R',\n",
      " 'base_estimator': None,\n",
      " 'learning_rate': 1.0,\n",
      " 'n_estimators': 50,\n",
      " 'random_state': None}\n"
     ]
    }
   ],
   "source": [
    "clf_AB = AdaBoostClassifier()\n",
    "print('Default Parameters currently in use:\\n')\n",
    "pprint(clf_AB.get_params())"
   ]
  },
  {
   "cell_type": "code",
   "execution_count": 24,
   "metadata": {},
   "outputs": [],
   "source": [
    "# The maximum number of estimators at which boosting is terminated.\n",
    "n_estimators = [i for i in np.arange(50,200, 50)]\n",
    "\n",
    "# It shrinks the contribution of each classifier by learning_rate.\n",
    "learning_rate = [0.01,0.05,0.1,0.3,1]\n",
    "    \n",
    "#algorithm\n",
    "#algoritm = ['SAMME', 'SAMME.R']"
   ]
  },
  {
   "cell_type": "code",
   "execution_count": 25,
   "metadata": {},
   "outputs": [
    {
     "name": "stdout",
     "output_type": "stream",
     "text": [
      "Fitting 10 folds for each of 10 candidates, totalling 100 fits\n"
     ]
    },
    {
     "name": "stderr",
     "output_type": "stream",
     "text": [
      "[Parallel(n_jobs=-1)]: Done  34 tasks      | elapsed:    4.8s\n",
      "[Parallel(n_jobs=-1)]: Done 100 out of 100 | elapsed:   12.6s finished\n"
     ]
    }
   ],
   "source": [
    "param_AdaBoost = {'n_estimators': n_estimators, 'learning_rate': learning_rate}\n",
    "\n",
    "classifier_AdaBoost = RandomizedSearchCV(estimator = clf_AB, param_distributions = param_AdaBoost, n_iter=no_iter, cv=no_cv, verbose=no_verbose, random_state=42, n_jobs=no_process)\n",
    "\n",
    "# Fit the random search model\n",
    "start_training_AdaBoost = time.time()\n",
    "classifier_AdaBoost.fit(train_dataset, y_train)\n",
    "end_training_AdaBoost = time.time()"
   ]
  },
  {
   "cell_type": "code",
   "execution_count": 26,
   "metadata": {},
   "outputs": [
    {
     "name": "stderr",
     "output_type": "stream",
     "text": [
      "C:\\Users\\Shoaib\\Anaconda3\\lib\\site-packages\\sklearn\\model_selection\\_search.py:761: DeprecationWarning: The grid_scores_ attribute was deprecated in version 0.18 in favor of the more elaborate cv_results_ attribute. The grid_scores_ attribute will not be available from 0.20\n",
      "  DeprecationWarning)\n"
     ]
    },
    {
     "data": {
      "text/plain": [
       "[mean: 0.69798, std: 0.05683, params: {'n_estimators': 50, 'learning_rate': 0.3},\n",
       " mean: 0.74948, std: 0.02941, params: {'n_estimators': 150, 'learning_rate': 0.3},\n",
       " mean: 0.66597, std: 0.04214, params: {'n_estimators': 50, 'learning_rate': 0.01},\n",
       " mean: 0.32916, std: 0.08144, params: {'n_estimators': 100, 'learning_rate': 1},\n",
       " mean: 0.72512, std: 0.03598, params: {'n_estimators': 150, 'learning_rate': 0.05},\n",
       " mean: 0.72443, std: 0.04367, params: {'n_estimators': 150, 'learning_rate': 0.1},\n",
       " mean: 0.71886, std: 0.03139, params: {'n_estimators': 150, 'learning_rate': 0.01},\n",
       " mean: 0.70216, std: 0.04392, params: {'n_estimators': 100, 'learning_rate': 0.01},\n",
       " mean: 0.33194, std: 0.08880, params: {'n_estimators': 150, 'learning_rate': 1},\n",
       " mean: 0.70772, std: 0.04743, params: {'n_estimators': 100, 'learning_rate': 0.05}]"
      ]
     },
     "execution_count": 26,
     "metadata": {},
     "output_type": "execute_result"
    }
   ],
   "source": [
    "classifier_AdaBoost.grid_scores_"
   ]
  },
  {
   "cell_type": "code",
   "execution_count": 27,
   "metadata": {},
   "outputs": [
    {
     "name": "stdout",
     "output_type": "stream",
     "text": [
      "Best Accuracy :  0.7494780793319415\n",
      "Best Index :  1\n",
      "Best Parameters :  {'n_estimators': 150, 'learning_rate': 0.3}\n",
      "Best Estimator :  AdaBoostClassifier(algorithm='SAMME.R', base_estimator=None,\n",
      "          learning_rate=0.3, n_estimators=150, random_state=None)\n",
      "Mean Time of each validation :  [0.24644122 0.88004656 0.27436585 0.55920432 0.96661544 0.90318482\n",
      " 0.85012689 0.53327386 0.83586552 0.53078029]\n",
      "Time for all cross-validations of best index :  8.80046558380127 seconds\n",
      "Total Time :  13.375239133834839\n"
     ]
    }
   ],
   "source": [
    "best_score_AB = classifier_AdaBoost.best_score_\n",
    "best_index_AB = classifier_AdaBoost.best_index_\n",
    "best_parameters_AB = classifier_AdaBoost.best_params_\n",
    "best_estimator_AB = classifier_AdaBoost.best_estimator_\n",
    "time_for_all_validations_AB = classifier_AdaBoost.cv_results_['mean_fit_time']\n",
    "time_best_index_AB = time_for_all_validations_AB[best_index_AB]\n",
    "\n",
    "print('Best Accuracy : ', best_score_AB)\n",
    "print('Best Index : ', best_index_AB)\n",
    "print('Best Parameters : ', best_parameters_AB)\n",
    "print('Best Estimator : ', best_estimator_AB)\n",
    "print('Mean Time of each validation : ', time_for_all_validations_AB)\n",
    "print('Time for all cross-validations of best index : ', time_best_index_AB*no_cv, 'seconds')\n",
    "\n",
    "training_time_AdaBoost = end_training_AdaBoost - start_training_AdaBoost\n",
    "print('Total Time : ', training_time_AdaBoost)"
   ]
  },
  {
   "cell_type": "code",
   "execution_count": 28,
   "metadata": {},
   "outputs": [
    {
     "name": "stdout",
     "output_type": "stream",
     "text": [
      "Predicted Labels :  [6 9 3 7 3 8 5 8 5 8 8 8 4 0 4 8 3 7 8 8 8 8 9 8 5 6 3 5 8 3 4 9 3 4 4 6 9\n",
      " 4 7 6 6 8 1 3 6 1 3 0 6 5 5 8 9 5 6 0 8 0 0 1 5 4 5 8 4 5 7 0 7 8 9 5 5 4\n",
      " 7 0 1 5 5 9 9 5 2 8 8 0 6 4 4 8 1 8 8 8 5 8 9 4 5 4 1 3 5 8 1 8 5 9 4 8 7\n",
      " 7 4 4 8 9 8 7 8 7 8 6 9 4 0 7 8 7 5 8 8 5 7 7 0 6 6 4 8 8 0 9 4 8 8 9 6 9\n",
      " 0 5 5 6 6 0 6 4 8 9 8 8 7 3 9 0 4 5 8 6 5 8 9 8 4 8 1 3 7 8 8 3 8 9 8 0 8\n",
      " 8 2 5 6 9 9 4 1 4 4 8 3 6 4 8 5 8 5 7 8 9 4 8 1 5 4 4 9 5 8 8 6 5 4 5 8 7\n",
      " 1 6 4 5 6 5 3 3 8 6 7 8 5 8 4 7 6 8 8 5 5 1 5 8 8 8 8 8 7 6 2 8 8 8 4 8 8\n",
      " 8 6 0 8 7 7 0 1 0 4 5 8 5 8 8 0 4 3 0 0 8 6 5 9 8 3 5 5 9 9 8 5 3 3 8 0 5\n",
      " 8 8 4 0 8 4 8 4 3 4 5 0 5 8 8 3 8 4 8 8 7 0 1 5 8 8 8 8 7 0 6 4 8 8 5 1 8\n",
      " 4 5 8 7 9 8 8 0 1 8 0 7 9 8 9 5 8 7 7 9 8 7 4 8 4 3 5]\n",
      "Actual Labels :  [6 9 3 7 2 1 5 2 5 2 1 9 4 0 4 2 3 7 8 8 4 3 9 7 5 6 3 5 6 3 4 9 1 4 4 6 9\n",
      " 4 7 6 6 9 1 3 6 1 3 0 6 5 5 1 9 5 6 0 9 0 0 1 0 4 5 2 4 5 7 0 7 5 9 5 5 4\n",
      " 7 0 4 5 5 9 9 0 2 3 8 0 6 4 4 9 1 2 8 3 5 2 9 0 4 4 4 3 5 3 1 3 5 9 4 2 7\n",
      " 7 4 4 1 9 2 7 8 7 2 6 9 4 0 7 2 7 5 8 7 5 7 7 0 6 6 4 2 8 0 9 4 6 9 9 6 9\n",
      " 0 3 5 6 6 0 6 4 3 9 3 9 7 2 9 0 4 5 3 6 5 9 9 8 4 2 1 3 7 7 2 2 3 9 8 0 3\n",
      " 2 2 5 6 9 9 4 1 5 4 2 3 6 4 8 5 9 5 7 8 9 4 8 1 5 4 4 9 6 1 8 6 0 4 5 2 7\n",
      " 4 6 4 5 6 0 3 2 3 6 7 1 5 1 4 7 6 8 8 5 5 1 6 2 8 8 9 9 7 6 2 2 2 3 4 8 8\n",
      " 3 6 0 9 7 7 0 1 0 4 5 1 5 3 6 0 4 1 0 0 3 6 5 9 7 3 5 5 9 9 8 5 3 3 2 0 5\n",
      " 8 3 4 0 2 4 6 4 3 4 5 0 5 2 1 3 1 4 1 1 7 0 1 5 2 1 2 8 7 0 6 4 8 8 5 1 8\n",
      " 4 5 8 7 9 8 5 0 6 2 0 7 9 8 9 5 2 7 7 1 8 7 4 3 8 3 5]\n",
      "Predicted Labels Shape :  (360,)\n",
      "Actual Labels Shape :  (360,)\n",
      "Test Accuracy :  0.7222222222222222\n",
      "Prediction Time :  0.043881893157958984\n"
     ]
    }
   ],
   "source": [
    "start_testing_AdaBoost = time.time()\n",
    "predict_AdaBoost = classifier_AdaBoost.predict(test_dataset)\n",
    "end_testing_AdaBoost = time.time()\n",
    "\n",
    "print('Predicted Labels : ', predict_AdaBoost)\n",
    "print('Actual Labels : ', y_test)\n",
    "print('Predicted Labels Shape : ', predict_AdaBoost.shape)\n",
    "print('Actual Labels Shape : ', y_test.shape)\n",
    "\n",
    "test_score_AdaBoost = classifier_AdaBoost.score(test_dataset, y_test)\n",
    "print('Test Accuracy : ', test_score_AdaBoost)\n",
    "\n",
    "testing_time_AdaBoost = end_testing_AdaBoost - start_testing_AdaBoost\n",
    "print('Prediction Time : ', testing_time_AdaBoost)"
   ]
  },
  {
   "cell_type": "code",
   "execution_count": 29,
   "metadata": {},
   "outputs": [
    {
     "name": "stdout",
     "output_type": "stream",
     "text": [
      "Predicted Labels :  [6 9 3 7 3 8 5 8 5 8 8 8 4 0 4 8 3 7 8 8 8 8 9 8 5 6 3 5 8 3 4 9 3 4 4 6 9\n",
      " 4 7 6 6 8 1 3 6 1 3 0 6 5 5 8 9 5 6 0 8 0 0 1 5 4 5 8 4 5 7 0 7 8 9 5 5 4\n",
      " 7 0 1 5 5 9 9 5 2 8 8 0 6 4 4 8 1 8 8 8 5 8 9 4 5 4 1 3 5 8 1 8 5 9 4 8 7\n",
      " 7 4 4 8 9 8 7 8 7 8 6 9 4 0 7 8 7 5 8 8 5 7 7 0 6 6 4 8 8 0 9 4 8 8 9 6 9\n",
      " 0 5 5 6 6 0 6 4 8 9 8 8 7 3 9 0 4 5 8 6 5 8 9 8 4 8 1 3 7 8 8 3 8 9 8 0 8\n",
      " 8 2 5 6 9 9 4 1 4 4 8 3 6 4 8 5 8 5 7 8 9 4 8 1 5 4 4 9 5 8 8 6 5 4 5 8 7\n",
      " 1 6 4 5 6 5 3 3 8 6 7 8 5 8 4 7 6 8 8 5 5 1 5 8 8 8 8 8 7 6 2 8 8 8 4 8 8\n",
      " 8 6 0 8 7 7 0 1 0 4 5 8 5 8 8 0 4 3 0 0 8 6 5 9 8 3 5 5 9 9 8 5 3 3 8 0 5\n",
      " 8 8 4 0 8 4 8 4 3 4 5 0 5 8 8 3 8 4 8 8 7 0 1 5 8 8 8 8 7 0 6 4 8 8 5 1 8\n",
      " 4 5 8 7 9 8 8 0 1 8 0 7 9 8 9 5 8 7 7 9 8 7 4 8 4 3 5]\n",
      "Test Accuracy :  0.7222222222222222\n",
      "Testing Time :  0.03490567207336426\n"
     ]
    }
   ],
   "source": [
    "# To save model\n",
    "model_AB = 'Model_AdaBoost.pkl'\n",
    "model_object = open(model_AB, 'wb')\n",
    "pickle.dump(classifier_AdaBoost, model_object)\n",
    "model_object.close()\n",
    "\n",
    "# To load model\n",
    "model_object = open(model_AB, 'rb')\n",
    "loaded_model_AdaBoost = pickle.load(model_object)\n",
    "\n",
    "# Operations with loaded model\n",
    "start_testing_AdaBoost = time.time()\n",
    "predict_AdaBoost = loaded_model_AdaBoost.predict(test_dataset)\n",
    "#predict_prob_AdaBoost = loaded_model_AdaBoost.predict_proba(test_dataset)\n",
    "end_testing_AdaBoost = time.time()\n",
    "\n",
    "print('Predicted Labels : ', predict_AdaBoost)\n",
    "test_score_AdaBoost = metrics.accuracy_score(y_test, predict_AdaBoost)\n",
    "print('Test Accuracy : ', test_score_AdaBoost)\n",
    "\n",
    "testing_time_AdaBoost = end_testing_AdaBoost - start_testing_AdaBoost\n",
    "print('Testing Time : ', testing_time_AdaBoost)"
   ]
  },
  {
   "cell_type": "markdown",
   "metadata": {},
   "source": [
    "## Multi-Layer Perceptron Classifier"
   ]
  },
  {
   "cell_type": "code",
   "execution_count": 30,
   "metadata": {},
   "outputs": [
    {
     "name": "stdout",
     "output_type": "stream",
     "text": [
      "Default Parameters currently in use:\n",
      "\n",
      "{'activation': 'relu',\n",
      " 'alpha': 0.0001,\n",
      " 'batch_size': 'auto',\n",
      " 'beta_1': 0.9,\n",
      " 'beta_2': 0.999,\n",
      " 'early_stopping': False,\n",
      " 'epsilon': 1e-08,\n",
      " 'hidden_layer_sizes': (100,),\n",
      " 'learning_rate': 'constant',\n",
      " 'learning_rate_init': 0.001,\n",
      " 'max_iter': 200,\n",
      " 'momentum': 0.9,\n",
      " 'nesterovs_momentum': True,\n",
      " 'power_t': 0.5,\n",
      " 'random_state': None,\n",
      " 'shuffle': True,\n",
      " 'solver': 'adam',\n",
      " 'tol': 0.0001,\n",
      " 'validation_fraction': 0.1,\n",
      " 'verbose': False,\n",
      " 'warm_start': False}\n"
     ]
    }
   ],
   "source": [
    "clf_MLP = MLPClassifier()\n",
    "print('Default Parameters currently in use:\\n')\n",
    "pprint(clf_MLP.get_params())"
   ]
  },
  {
   "cell_type": "code",
   "execution_count": 31,
   "metadata": {},
   "outputs": [],
   "source": [
    "hidden_layer_sizes = [(50,50,50), (50,100,50), (100,)]\n",
    "activation = ['tanh', 'relu', 'logistic']\n",
    "solver = ['sgd', 'adam', 'lbfgs']\n",
    "# alpha = random.uniform(0.0001, 0.9)\n",
    "learning_rate = ['constant','adaptive']"
   ]
  },
  {
   "cell_type": "code",
   "execution_count": 32,
   "metadata": {},
   "outputs": [
    {
     "name": "stdout",
     "output_type": "stream",
     "text": [
      "Fitting 10 folds for each of 10 candidates, totalling 100 fits\n"
     ]
    },
    {
     "name": "stderr",
     "output_type": "stream",
     "text": [
      "[Parallel(n_jobs=-1)]: Done  34 tasks      | elapsed:   19.1s\n",
      "[Parallel(n_jobs=-1)]: Done 100 out of 100 | elapsed:   49.8s finished\n",
      "C:\\Users\\Shoaib\\Anaconda3\\lib\\site-packages\\sklearn\\neural_network\\multilayer_perceptron.py:564: ConvergenceWarning: Stochastic Optimizer: Maximum iterations (200) reached and the optimization hasn't converged yet.\n",
      "  % self.max_iter, ConvergenceWarning)\n"
     ]
    }
   ],
   "source": [
    "param_MLP = {'hidden_layer_sizes': hidden_layer_sizes , 'activation': activation, 'solver': solver, 'learning_rate':learning_rate}\n",
    "\n",
    "classifier_MLP = RandomizedSearchCV(estimator = clf_MLP, param_distributions = param_MLP, n_iter=no_iter, cv=no_cv, verbose=no_verbose, random_state=42, n_jobs=no_process)\n",
    "\n",
    "# Fit the random search model\n",
    "start_training_MLP = time.time()\n",
    "classifier_MLP.fit(train_dataset, y_train)\n",
    "end_training_MLP = time.time()"
   ]
  },
  {
   "cell_type": "code",
   "execution_count": 33,
   "metadata": {},
   "outputs": [
    {
     "name": "stderr",
     "output_type": "stream",
     "text": [
      "C:\\Users\\Shoaib\\Anaconda3\\lib\\site-packages\\sklearn\\model_selection\\_search.py:761: DeprecationWarning: The grid_scores_ attribute was deprecated in version 0.18 in favor of the more elaborate cv_results_ attribute. The grid_scores_ attribute will not be available from 0.20\n",
      "  DeprecationWarning)\n"
     ]
    },
    {
     "data": {
      "text/plain": [
       "[mean: 0.96451, std: 0.01251, params: {'solver': 'adam', 'learning_rate': 'constant', 'hidden_layer_sizes': (50, 50, 50), 'activation': 'relu'},\n",
       " mean: 0.97982, std: 0.00910, params: {'solver': 'adam', 'learning_rate': 'constant', 'hidden_layer_sizes': (100,), 'activation': 'logistic'},\n",
       " mean: 0.95685, std: 0.01133, params: {'solver': 'sgd', 'learning_rate': 'constant', 'hidden_layer_sizes': (100,), 'activation': 'logistic'},\n",
       " mean: 0.95338, std: 0.01688, params: {'solver': 'sgd', 'learning_rate': 'constant', 'hidden_layer_sizes': (100,), 'activation': 'tanh'},\n",
       " mean: 0.91788, std: 0.01633, params: {'solver': 'lbfgs', 'learning_rate': 'constant', 'hidden_layer_sizes': (50, 100, 50), 'activation': 'logistic'},\n",
       " mean: 0.95755, std: 0.01744, params: {'solver': 'lbfgs', 'learning_rate': 'adaptive', 'hidden_layer_sizes': (50, 50, 50), 'activation': 'tanh'},\n",
       " mean: 0.96590, std: 0.01379, params: {'solver': 'lbfgs', 'learning_rate': 'adaptive', 'hidden_layer_sizes': (100,), 'activation': 'tanh'},\n",
       " mean: 0.97843, std: 0.01118, params: {'solver': 'adam', 'learning_rate': 'adaptive', 'hidden_layer_sizes': (100,), 'activation': 'logistic'},\n",
       " mean: 0.94502, std: 0.01578, params: {'solver': 'sgd', 'learning_rate': 'adaptive', 'hidden_layer_sizes': (50, 50, 50), 'activation': 'tanh'},\n",
       " mean: 0.96451, std: 0.00777, params: {'solver': 'lbfgs', 'learning_rate': 'constant', 'hidden_layer_sizes': (100,), 'activation': 'relu'}]"
      ]
     },
     "execution_count": 33,
     "metadata": {},
     "output_type": "execute_result"
    }
   ],
   "source": [
    "classifier_MLP.grid_scores_"
   ]
  },
  {
   "cell_type": "code",
   "execution_count": 34,
   "metadata": {},
   "outputs": [
    {
     "name": "stdout",
     "output_type": "stream",
     "text": [
      "Best Accuracy :  0.9798190675017397\n",
      "Best Index :  1\n",
      "Best Parameters :  {'solver': 'adam', 'learning_rate': 'constant', 'hidden_layer_sizes': (100,), 'activation': 'logistic'}\n",
      "Best Estimator :  MLPClassifier(activation='logistic', alpha=0.0001, batch_size='auto',\n",
      "       beta_1=0.9, beta_2=0.999, early_stopping=False, epsilon=1e-08,\n",
      "       hidden_layer_sizes=(100,), learning_rate='constant',\n",
      "       learning_rate_init=0.001, max_iter=200, momentum=0.9,\n",
      "       nesterovs_momentum=True, power_t=0.5, random_state=None,\n",
      "       shuffle=True, solver='adam', tol=0.0001, validation_fraction=0.1,\n",
      "       verbose=False, warm_start=False)\n",
      "Mean Time of each validation :  [2.31491077 4.55661666 4.85791094 4.45688412 6.19942398 1.54207656\n",
      " 0.78081162 5.34271419 6.37335973 0.82549272]\n",
      "Time for all cross-validations of best index :  45.566166639328 seconds\n",
      "Total Time :  51.894254207611084\n"
     ]
    }
   ],
   "source": [
    "best_score_MLP = classifier_MLP.best_score_\n",
    "best_index_MLP = classifier_MLP.best_index_\n",
    "best_parameters_MLP = classifier_MLP.best_params_\n",
    "best_estimator_MLP = classifier_MLP.best_estimator_\n",
    "time_for_all_validations_MLP = classifier_MLP.cv_results_['mean_fit_time']\n",
    "time_best_index_MLP = time_for_all_validations_MLP[best_index_MLP]\n",
    "\n",
    "print('Best Accuracy : ', best_score_MLP)\n",
    "print('Best Index : ', best_index_MLP)\n",
    "print('Best Parameters : ', best_parameters_MLP)\n",
    "print('Best Estimator : ', best_estimator_MLP)\n",
    "print('Mean Time of each validation : ', time_for_all_validations_MLP)\n",
    "print('Time for all cross-validations of best index : ', time_best_index_MLP*no_cv, 'seconds')\n",
    "\n",
    "training_time_MLP = end_training_MLP - start_training_MLP\n",
    "print('Total Time : ', training_time_MLP)"
   ]
  },
  {
   "cell_type": "code",
   "execution_count": 35,
   "metadata": {},
   "outputs": [
    {
     "name": "stdout",
     "output_type": "stream",
     "text": [
      "Predicted Labels :  [6 9 3 7 2 1 5 2 5 2 1 9 4 0 4 2 3 7 8 8 4 3 9 7 5 6 3 5 6 3 4 9 1 4 4 6 9\n",
      " 4 7 6 6 9 1 3 6 1 3 0 6 5 5 1 9 5 6 0 9 0 0 1 0 4 5 2 4 5 7 0 7 5 9 5 5 4\n",
      " 7 0 4 5 5 9 9 0 2 3 8 0 6 4 4 9 1 2 8 3 5 2 9 0 4 4 4 3 5 3 1 3 5 9 4 2 7\n",
      " 7 4 4 1 9 2 7 8 7 2 6 9 4 0 7 2 7 5 8 7 5 7 9 0 6 6 4 2 8 0 9 4 6 9 9 6 9\n",
      " 0 5 5 6 6 0 6 4 3 9 3 8 7 2 9 0 4 5 3 6 5 9 9 8 4 2 1 3 7 7 2 2 3 9 8 0 3\n",
      " 2 2 5 6 9 9 4 1 5 4 2 3 6 4 8 5 9 5 7 8 9 4 8 1 5 4 4 9 6 1 8 6 0 4 5 2 7\n",
      " 4 6 4 5 6 0 3 2 3 6 7 1 9 1 4 7 6 5 8 5 5 1 4 2 8 8 9 9 7 6 2 2 2 3 4 8 8\n",
      " 3 6 0 3 7 7 0 1 0 4 5 1 5 3 6 0 4 1 0 0 3 6 5 9 7 3 5 5 9 9 8 5 3 3 2 0 5\n",
      " 8 3 4 0 2 4 6 4 3 4 5 0 5 2 1 3 1 4 1 1 7 0 1 5 2 1 2 8 7 0 6 4 8 8 5 1 8\n",
      " 4 5 8 7 9 8 6 0 6 2 0 7 9 8 9 5 2 7 7 1 8 7 4 3 8 3 5]\n",
      "Actual Labels :  [6 9 3 7 2 1 5 2 5 2 1 9 4 0 4 2 3 7 8 8 4 3 9 7 5 6 3 5 6 3 4 9 1 4 4 6 9\n",
      " 4 7 6 6 9 1 3 6 1 3 0 6 5 5 1 9 5 6 0 9 0 0 1 0 4 5 2 4 5 7 0 7 5 9 5 5 4\n",
      " 7 0 4 5 5 9 9 0 2 3 8 0 6 4 4 9 1 2 8 3 5 2 9 0 4 4 4 3 5 3 1 3 5 9 4 2 7\n",
      " 7 4 4 1 9 2 7 8 7 2 6 9 4 0 7 2 7 5 8 7 5 7 7 0 6 6 4 2 8 0 9 4 6 9 9 6 9\n",
      " 0 3 5 6 6 0 6 4 3 9 3 9 7 2 9 0 4 5 3 6 5 9 9 8 4 2 1 3 7 7 2 2 3 9 8 0 3\n",
      " 2 2 5 6 9 9 4 1 5 4 2 3 6 4 8 5 9 5 7 8 9 4 8 1 5 4 4 9 6 1 8 6 0 4 5 2 7\n",
      " 4 6 4 5 6 0 3 2 3 6 7 1 5 1 4 7 6 8 8 5 5 1 6 2 8 8 9 9 7 6 2 2 2 3 4 8 8\n",
      " 3 6 0 9 7 7 0 1 0 4 5 1 5 3 6 0 4 1 0 0 3 6 5 9 7 3 5 5 9 9 8 5 3 3 2 0 5\n",
      " 8 3 4 0 2 4 6 4 3 4 5 0 5 2 1 3 1 4 1 1 7 0 1 5 2 1 2 8 7 0 6 4 8 8 5 1 8\n",
      " 4 5 8 7 9 8 5 0 6 2 0 7 9 8 9 5 2 7 7 1 8 7 4 3 8 3 5]\n",
      "Predicted Labels Shape :  (360,)\n",
      "Actual Labels Shape :  (360,)\n",
      "Test Accuracy :  0.9777777777777777\n",
      "Prediction Time :  0.0009975433349609375\n"
     ]
    }
   ],
   "source": [
    "start_testing_MLP = time.time()\n",
    "predict_MLP = classifier_MLP.predict(test_dataset)\n",
    "end_testing_MLP = time.time()\n",
    "\n",
    "print('Predicted Labels : ', predict_MLP)\n",
    "print('Actual Labels : ', y_test)\n",
    "print('Predicted Labels Shape : ', predict_MLP.shape)\n",
    "print('Actual Labels Shape : ', y_test.shape)\n",
    "\n",
    "test_score_MLP = classifier_MLP.score(test_dataset, y_test)\n",
    "print('Test Accuracy : ', test_score_MLP)\n",
    "\n",
    "testing_time_MLP = end_testing_MLP - start_testing_MLP\n",
    "print('Prediction Time : ', testing_time_MLP)"
   ]
  },
  {
   "cell_type": "code",
   "execution_count": 36,
   "metadata": {},
   "outputs": [
    {
     "name": "stdout",
     "output_type": "stream",
     "text": [
      "Predicted Labels :  [6 9 3 7 2 1 5 2 5 2 1 9 4 0 4 2 3 7 8 8 4 3 9 7 5 6 3 5 6 3 4 9 1 4 4 6 9\n",
      " 4 7 6 6 9 1 3 6 1 3 0 6 5 5 1 9 5 6 0 9 0 0 1 0 4 5 2 4 5 7 0 7 5 9 5 5 4\n",
      " 7 0 4 5 5 9 9 0 2 3 8 0 6 4 4 9 1 2 8 3 5 2 9 0 4 4 4 3 5 3 1 3 5 9 4 2 7\n",
      " 7 4 4 1 9 2 7 8 7 2 6 9 4 0 7 2 7 5 8 7 5 7 9 0 6 6 4 2 8 0 9 4 6 9 9 6 9\n",
      " 0 5 5 6 6 0 6 4 3 9 3 8 7 2 9 0 4 5 3 6 5 9 9 8 4 2 1 3 7 7 2 2 3 9 8 0 3\n",
      " 2 2 5 6 9 9 4 1 5 4 2 3 6 4 8 5 9 5 7 8 9 4 8 1 5 4 4 9 6 1 8 6 0 4 5 2 7\n",
      " 4 6 4 5 6 0 3 2 3 6 7 1 9 1 4 7 6 5 8 5 5 1 4 2 8 8 9 9 7 6 2 2 2 3 4 8 8\n",
      " 3 6 0 3 7 7 0 1 0 4 5 1 5 3 6 0 4 1 0 0 3 6 5 9 7 3 5 5 9 9 8 5 3 3 2 0 5\n",
      " 8 3 4 0 2 4 6 4 3 4 5 0 5 2 1 3 1 4 1 1 7 0 1 5 2 1 2 8 7 0 6 4 8 8 5 1 8\n",
      " 4 5 8 7 9 8 6 0 6 2 0 7 9 8 9 5 2 7 7 1 8 7 4 3 8 3 5]\n",
      "Test Accuracy :  0.9777777777777777\n",
      "Testing Time :  0.000997781753540039\n"
     ]
    }
   ],
   "source": [
    "# To save model\n",
    "model_MLP = \"Model_MLP.pkl\"  \n",
    "joblib.dump(classifier_MLP, model_MLP)\n",
    "\n",
    "# To load model\n",
    "loaded_model_MLP = joblib.load(model_MLP)\n",
    "\n",
    "# Operations with loaded model\n",
    "start_testing_MLP = time.time()\n",
    "predict_MLP = loaded_model_MLP.predict(test_dataset)\n",
    "#predict_prob_MLP = loaded_model_MLP.predict_proba(test_dataset)\n",
    "end_testing_MLP = time.time()\n",
    "\n",
    "print('Predicted Labels : ', predict_MLP)\n",
    "test_score_MLP = metrics.accuracy_score(y_test, predict_MLP)\n",
    "print('Test Accuracy : ', test_score_MLP)\n",
    "\n",
    "testing_time_MLP = end_testing_MLP - start_testing_MLP\n",
    "print('Testing Time : ', testing_time_MLP)"
   ]
  },
  {
   "cell_type": "markdown",
   "metadata": {},
   "source": [
    "# K-Neighbours Classifier"
   ]
  },
  {
   "cell_type": "code",
   "execution_count": 37,
   "metadata": {},
   "outputs": [
    {
     "name": "stdout",
     "output_type": "stream",
     "text": [
      "Default Parameters currently in use:\n",
      "\n",
      "{'algorithm': 'auto',\n",
      " 'leaf_size': 30,\n",
      " 'metric': 'minkowski',\n",
      " 'metric_params': None,\n",
      " 'n_jobs': 1,\n",
      " 'n_neighbors': 5,\n",
      " 'p': 2,\n",
      " 'weights': 'uniform'}\n"
     ]
    }
   ],
   "source": [
    "clf_KN = KNeighborsClassifier()\n",
    "print('Default Parameters currently in use:\\n')\n",
    "pprint(clf_KN.get_params())"
   ]
  },
  {
   "cell_type": "code",
   "execution_count": 38,
   "metadata": {},
   "outputs": [],
   "source": [
    "n_neighbours = [i for i in np.arange(4,20)]\n",
    "leaf_size = [j for j in np.arange(5,31,5)]\n",
    "weights = ['uniform', 'distance']\n",
    "algorithm = ['auto', 'ball_tree', 'kd_tree', 'brute']"
   ]
  },
  {
   "cell_type": "code",
   "execution_count": 39,
   "metadata": {},
   "outputs": [
    {
     "name": "stdout",
     "output_type": "stream",
     "text": [
      "Fitting 10 folds for each of 10 candidates, totalling 100 fits\n"
     ]
    },
    {
     "name": "stderr",
     "output_type": "stream",
     "text": [
      "[Parallel(n_jobs=-1)]: Done  34 tasks      | elapsed:    2.8s\n",
      "[Parallel(n_jobs=-1)]: Done 100 out of 100 | elapsed:    6.2s finished\n"
     ]
    }
   ],
   "source": [
    "param_KNN = {'n_neighbors':n_neighbours , 'weights':weights, 'algorithm':algorithm, 'leaf_size':leaf_size}\n",
    "\n",
    "classifier_KNN = RandomizedSearchCV(estimator = clf_KN, param_distributions = param_KNN, n_iter=no_iter, cv=no_cv, verbose=no_verbose, random_state=42, n_jobs=no_process)\n",
    "\n",
    "# Fit the random search model\n",
    "start_training_KNN = time.time()\n",
    "classifier_KNN.fit(train_dataset, y_train)\n",
    "end_training_KNN = time.time()"
   ]
  },
  {
   "cell_type": "code",
   "execution_count": 40,
   "metadata": {},
   "outputs": [
    {
     "name": "stderr",
     "output_type": "stream",
     "text": [
      "C:\\Users\\Shoaib\\Anaconda3\\lib\\site-packages\\sklearn\\model_selection\\_search.py:761: DeprecationWarning: The grid_scores_ attribute was deprecated in version 0.18 in favor of the more elaborate cv_results_ attribute. The grid_scores_ attribute will not be available from 0.20\n",
      "  DeprecationWarning)\n"
     ]
    },
    {
     "data": {
      "text/plain": [
       "[mean: 0.96938, std: 0.01286, params: {'weights': 'uniform', 'n_neighbors': 18, 'leaf_size': 15, 'algorithm': 'brute'},\n",
       " mean: 0.98330, std: 0.01249, params: {'weights': 'uniform', 'n_neighbors': 6, 'leaf_size': 25, 'algorithm': 'ball_tree'},\n",
       " mean: 0.97495, std: 0.01507, params: {'weights': 'uniform', 'n_neighbors': 12, 'leaf_size': 10, 'algorithm': 'brute'},\n",
       " mean: 0.97425, std: 0.01481, params: {'weights': 'uniform', 'n_neighbors': 13, 'leaf_size': 20, 'algorithm': 'brute'},\n",
       " mean: 0.97564, std: 0.00992, params: {'weights': 'distance', 'n_neighbors': 16, 'leaf_size': 15, 'algorithm': 'kd_tree'},\n",
       " mean: 0.97634, std: 0.01309, params: {'weights': 'uniform', 'n_neighbors': 10, 'leaf_size': 5, 'algorithm': 'ball_tree'},\n",
       " mean: 0.98747, std: 0.00794, params: {'weights': 'distance', 'n_neighbors': 4, 'leaf_size': 20, 'algorithm': 'auto'},\n",
       " mean: 0.97495, std: 0.01507, params: {'weights': 'uniform', 'n_neighbors': 12, 'leaf_size': 25, 'algorithm': 'ball_tree'},\n",
       " mean: 0.97495, std: 0.01224, params: {'weights': 'uniform', 'n_neighbors': 16, 'leaf_size': 30, 'algorithm': 'kd_tree'},\n",
       " mean: 0.97286, std: 0.01506, params: {'weights': 'uniform', 'n_neighbors': 14, 'leaf_size': 25, 'algorithm': 'auto'}]"
      ]
     },
     "execution_count": 40,
     "metadata": {},
     "output_type": "execute_result"
    }
   ],
   "source": [
    "classifier_KNN.grid_scores_"
   ]
  },
  {
   "cell_type": "code",
   "execution_count": 41,
   "metadata": {},
   "outputs": [
    {
     "name": "stdout",
     "output_type": "stream",
     "text": [
      "Best Accuracy :  0.9874739039665971\n",
      "Best Index :  6\n",
      "Best Parameters :  {'weights': 'distance', 'n_neighbors': 4, 'leaf_size': 20, 'algorithm': 'auto'}\n",
      "Best Estimator :  KNeighborsClassifier(algorithm='auto', leaf_size=20, metric='minkowski',\n",
      "           metric_params=None, n_jobs=1, n_neighbors=4, p=2,\n",
      "           weights='distance')\n",
      "Mean Time of each validation :  [0.00099747 0.00448897 0.00099733 0.00129662 0.0066812  0.00747955\n",
      " 0.00688133 0.00458727 0.00608304 0.00598359]\n",
      "Time for all cross-validations of best index :  0.06881332397460938 seconds\n",
      "Total Time :  6.522559404373169\n"
     ]
    }
   ],
   "source": [
    "best_score_KNN = classifier_KNN.best_score_\n",
    "best_index_KNN = classifier_KNN.best_index_\n",
    "best_parameters_KNN = classifier_KNN.best_params_\n",
    "best_estimator_KNN = classifier_KNN.best_estimator_\n",
    "time_for_all_validations_KNN = classifier_KNN.cv_results_['mean_fit_time']\n",
    "time_best_index_KNN = time_for_all_validations_KNN[best_index_KNN]\n",
    "\n",
    "print('Best Accuracy : ', best_score_KNN)\n",
    "print('Best Index : ', best_index_KNN)\n",
    "print('Best Parameters : ', best_parameters_KNN)\n",
    "print('Best Estimator : ', best_estimator_KNN)\n",
    "print('Mean Time of each validation : ', time_for_all_validations_KNN)\n",
    "print('Time for all cross-validations of best index : ', time_best_index_KNN*no_cv, 'seconds')\n",
    "\n",
    "training_time_KNN = end_training_KNN - start_training_KNN\n",
    "print('Total Time : ', training_time_KNN)"
   ]
  },
  {
   "cell_type": "code",
   "execution_count": 42,
   "metadata": {},
   "outputs": [
    {
     "name": "stdout",
     "output_type": "stream",
     "text": [
      "Predicted Labels :  [6 9 3 7 2 1 5 2 5 2 1 9 4 0 4 2 3 7 8 8 4 3 9 7 5 6 3 5 6 3 4 9 1 4 4 6 9\n",
      " 4 7 6 6 9 1 3 6 1 3 0 6 5 5 1 3 5 6 0 9 0 0 1 0 4 5 2 4 5 7 0 7 5 9 5 5 4\n",
      " 7 0 4 5 5 9 9 0 2 3 8 0 6 4 4 9 1 2 8 3 5 2 9 0 4 4 4 3 5 3 1 3 5 9 4 2 7\n",
      " 7 4 4 1 9 2 7 8 7 2 6 9 4 0 7 2 7 5 8 7 5 7 9 0 6 6 4 2 8 0 9 4 6 9 9 6 9\n",
      " 0 3 5 6 6 0 6 4 3 9 3 4 7 2 9 0 4 5 3 6 5 9 9 8 4 2 1 3 7 7 2 2 3 9 8 0 3\n",
      " 2 2 5 6 9 9 4 1 5 4 2 3 6 4 8 5 9 5 7 1 9 4 8 1 5 4 4 9 6 1 8 6 0 4 5 2 7\n",
      " 4 6 4 5 6 0 3 2 3 6 7 1 5 1 4 7 6 8 8 5 5 1 6 2 8 8 9 5 7 6 2 2 2 3 4 8 8\n",
      " 3 6 0 9 7 7 0 1 0 4 5 1 5 3 6 0 4 1 0 0 3 6 5 9 7 3 5 5 9 9 8 5 3 3 2 0 5\n",
      " 8 3 4 0 2 4 6 4 3 4 5 0 5 2 1 3 1 4 1 1 7 0 1 5 2 1 2 8 7 0 6 4 8 8 5 1 8\n",
      " 4 5 8 7 9 8 6 0 6 2 0 7 9 8 9 5 2 7 7 1 8 7 4 3 8 3 5]\n",
      "Actual Labels :  [6 9 3 7 2 1 5 2 5 2 1 9 4 0 4 2 3 7 8 8 4 3 9 7 5 6 3 5 6 3 4 9 1 4 4 6 9\n",
      " 4 7 6 6 9 1 3 6 1 3 0 6 5 5 1 9 5 6 0 9 0 0 1 0 4 5 2 4 5 7 0 7 5 9 5 5 4\n",
      " 7 0 4 5 5 9 9 0 2 3 8 0 6 4 4 9 1 2 8 3 5 2 9 0 4 4 4 3 5 3 1 3 5 9 4 2 7\n",
      " 7 4 4 1 9 2 7 8 7 2 6 9 4 0 7 2 7 5 8 7 5 7 7 0 6 6 4 2 8 0 9 4 6 9 9 6 9\n",
      " 0 3 5 6 6 0 6 4 3 9 3 9 7 2 9 0 4 5 3 6 5 9 9 8 4 2 1 3 7 7 2 2 3 9 8 0 3\n",
      " 2 2 5 6 9 9 4 1 5 4 2 3 6 4 8 5 9 5 7 8 9 4 8 1 5 4 4 9 6 1 8 6 0 4 5 2 7\n",
      " 4 6 4 5 6 0 3 2 3 6 7 1 5 1 4 7 6 8 8 5 5 1 6 2 8 8 9 9 7 6 2 2 2 3 4 8 8\n",
      " 3 6 0 9 7 7 0 1 0 4 5 1 5 3 6 0 4 1 0 0 3 6 5 9 7 3 5 5 9 9 8 5 3 3 2 0 5\n",
      " 8 3 4 0 2 4 6 4 3 4 5 0 5 2 1 3 1 4 1 1 7 0 1 5 2 1 2 8 7 0 6 4 8 8 5 1 8\n",
      " 4 5 8 7 9 8 5 0 6 2 0 7 9 8 9 5 2 7 7 1 8 7 4 3 8 3 5]\n",
      "Predicted Labels Shape :  (360,)\n",
      "Actual Labels Shape :  (360,)\n",
      "Test Accuracy :  0.9833333333333333\n",
      "Prediction Time :  0.07779097557067871\n"
     ]
    }
   ],
   "source": [
    "start_testing_KNN = time.time()\n",
    "predict_KNN = classifier_KNN.predict(test_dataset)\n",
    "end_testing_KNN = time.time()\n",
    "\n",
    "print('Predicted Labels : ', predict_KNN)\n",
    "print('Actual Labels : ', y_test)\n",
    "print('Predicted Labels Shape : ', predict_KNN.shape)\n",
    "print('Actual Labels Shape : ', y_test.shape)\n",
    "\n",
    "test_score_KNN = classifier_KNN.score(test_dataset, y_test)\n",
    "print('Test Accuracy : ', test_score_KNN)\n",
    "\n",
    "testing_time_KNN = end_testing_KNN - start_testing_KNN\n",
    "print('Prediction Time : ', testing_time_KNN)"
   ]
  },
  {
   "cell_type": "code",
   "execution_count": 43,
   "metadata": {},
   "outputs": [
    {
     "name": "stdout",
     "output_type": "stream",
     "text": [
      "Predicted Labels :  [6 9 3 7 2 1 5 2 5 2 1 9 4 0 4 2 3 7 8 8 4 3 9 7 5 6 3 5 6 3 4 9 1 4 4 6 9\n",
      " 4 7 6 6 9 1 3 6 1 3 0 6 5 5 1 3 5 6 0 9 0 0 1 0 4 5 2 4 5 7 0 7 5 9 5 5 4\n",
      " 7 0 4 5 5 9 9 0 2 3 8 0 6 4 4 9 1 2 8 3 5 2 9 0 4 4 4 3 5 3 1 3 5 9 4 2 7\n",
      " 7 4 4 1 9 2 7 8 7 2 6 9 4 0 7 2 7 5 8 7 5 7 9 0 6 6 4 2 8 0 9 4 6 9 9 6 9\n",
      " 0 3 5 6 6 0 6 4 3 9 3 4 7 2 9 0 4 5 3 6 5 9 9 8 4 2 1 3 7 7 2 2 3 9 8 0 3\n",
      " 2 2 5 6 9 9 4 1 5 4 2 3 6 4 8 5 9 5 7 1 9 4 8 1 5 4 4 9 6 1 8 6 0 4 5 2 7\n",
      " 4 6 4 5 6 0 3 2 3 6 7 1 5 1 4 7 6 8 8 5 5 1 6 2 8 8 9 5 7 6 2 2 2 3 4 8 8\n",
      " 3 6 0 9 7 7 0 1 0 4 5 1 5 3 6 0 4 1 0 0 3 6 5 9 7 3 5 5 9 9 8 5 3 3 2 0 5\n",
      " 8 3 4 0 2 4 6 4 3 4 5 0 5 2 1 3 1 4 1 1 7 0 1 5 2 1 2 8 7 0 6 4 8 8 5 1 8\n",
      " 4 5 8 7 9 8 6 0 6 2 0 7 9 8 9 5 2 7 7 1 8 7 4 3 8 3 5]\n",
      "Test Accuracy :  0.9833333333333333\n",
      "Testing Time :  0.07779192924499512\n"
     ]
    }
   ],
   "source": [
    "# To save model\n",
    "model_KNN = \"Model_KNN.pkl\"  \n",
    "joblib.dump(classifier_KNN, model_KNN)\n",
    "\n",
    "# To load model\n",
    "loaded_model_KNN = joblib.load(model_KNN)\n",
    "\n",
    "# Operations with loaded model\n",
    "start_testing_KNN = time.time()\n",
    "predict_KNN = loaded_model_KNN.predict(test_dataset)\n",
    "#predict_prob_KNN = loaded_model_KNN.predict_proba(test_dataset)\n",
    "end_testing_KNN = time.time()\n",
    "\n",
    "print('Predicted Labels : ', predict_KNN)\n",
    "test_score_KNN = metrics.accuracy_score(y_test, predict_KNN)\n",
    "print('Test Accuracy : ', test_score_KNN)\n",
    "\n",
    "testing_time_KNN = end_testing_KNN - start_testing_KNN\n",
    "print('Testing Time : ', testing_time_KNN)"
   ]
  },
  {
   "cell_type": "markdown",
   "metadata": {},
   "source": [
    "# Support Vector Machine"
   ]
  },
  {
   "cell_type": "code",
   "execution_count": 44,
   "metadata": {},
   "outputs": [
    {
     "name": "stdout",
     "output_type": "stream",
     "text": [
      "Default Parameters currently in use:\n",
      "\n",
      "{'C': 1.0,\n",
      " 'cache_size': 200,\n",
      " 'class_weight': None,\n",
      " 'coef0': 0.0,\n",
      " 'decision_function_shape': 'ovr',\n",
      " 'degree': 3,\n",
      " 'gamma': 0.001,\n",
      " 'kernel': 'rbf',\n",
      " 'max_iter': -1,\n",
      " 'probability': False,\n",
      " 'random_state': None,\n",
      " 'shrinking': True,\n",
      " 'tol': 0.001,\n",
      " 'verbose': False}\n"
     ]
    }
   ],
   "source": [
    "clf_SVM = svm.SVC(gamma=0.001)\n",
    "print('Default Parameters currently in use:\\n')\n",
    "pprint(clf_SVM.get_params())"
   ]
  },
  {
   "cell_type": "code",
   "execution_count": 45,
   "metadata": {},
   "outputs": [],
   "source": [
    "C = [0.001, 0.01, 0.1, 1, 5, 10, 50, 100, 500, 1000]\n",
    "kernel = ['linear', 'poly', 'rbf', 'sigmoid']\n",
    "degree = [2, 3, 4, 5]\n",
    "gamma = [0.0001, 0.001, 0.01, 0.1, 1]"
   ]
  },
  {
   "cell_type": "code",
   "execution_count": 46,
   "metadata": {},
   "outputs": [],
   "source": [
    "param_SVM = {'C':C, 'kernel':kernel, 'degree':degree, 'gamma':gamma}"
   ]
  },
  {
   "cell_type": "code",
   "execution_count": 47,
   "metadata": {},
   "outputs": [
    {
     "name": "stdout",
     "output_type": "stream",
     "text": [
      "Fitting 10 folds for each of 10 candidates, totalling 100 fits\n"
     ]
    },
    {
     "name": "stderr",
     "output_type": "stream",
     "text": [
      "[Parallel(n_jobs=-1)]: Done  34 tasks      | elapsed:    4.0s\n",
      "[Parallel(n_jobs=-1)]: Done 100 out of 100 | elapsed:    6.7s finished\n"
     ]
    }
   ],
   "source": [
    "classifier_SVM = RandomizedSearchCV(estimator = clf_SVM, param_distributions = param_SVM, n_iter=no_iter, cv=no_cv, verbose=no_verbose, random_state=42, n_jobs=no_process)\n",
    "\n",
    "# Fit the random search model\n",
    "start_training_SVM = time.time()\n",
    "classifier_SVM.fit(train_dataset, y_train)\n",
    "end_training_SVM = time.time()"
   ]
  },
  {
   "cell_type": "code",
   "execution_count": 48,
   "metadata": {},
   "outputs": [
    {
     "name": "stderr",
     "output_type": "stream",
     "text": [
      "C:\\Users\\Shoaib\\Anaconda3\\lib\\site-packages\\sklearn\\model_selection\\_search.py:761: DeprecationWarning: The grid_scores_ attribute was deprecated in version 0.18 in favor of the more elaborate cv_results_ attribute. The grid_scores_ attribute will not be available from 0.20\n",
      "  DeprecationWarning)\n"
     ]
    },
    {
     "data": {
      "text/plain": [
       "[mean: 0.97495, std: 0.00975, params: {'kernel': 'linear', 'gamma': 1, 'degree': 4, 'C': 500},\n",
       " mean: 0.51218, std: 0.04150, params: {'kernel': 'sigmoid', 'gamma': 0.001, 'degree': 3, 'C': 500},\n",
       " mean: 0.10717, std: 0.00136, params: {'kernel': 'sigmoid', 'gamma': 0.0001, 'degree': 5, 'C': 0.001},\n",
       " mean: 0.98817, std: 0.00869, params: {'kernel': 'poly', 'gamma': 0.1, 'degree': 4, 'C': 50},\n",
       " mean: 0.10717, std: 0.00136, params: {'kernel': 'rbf', 'gamma': 0.001, 'degree': 5, 'C': 0.001},\n",
       " mean: 0.98330, std: 0.00834, params: {'kernel': 'poly', 'gamma': 0.0001, 'degree': 5, 'C': 100},\n",
       " mean: 0.99095, std: 0.00620, params: {'kernel': 'rbf', 'gamma': 0.001, 'degree': 3, 'C': 5},\n",
       " mean: 0.78010, std: 0.01932, params: {'kernel': 'rbf', 'gamma': 0.01, 'degree': 2, 'C': 50},\n",
       " mean: 0.97495, std: 0.00975, params: {'kernel': 'linear', 'gamma': 0.0001, 'degree': 4, 'C': 1000},\n",
       " mean: 0.97495, std: 0.00975, params: {'kernel': 'linear', 'gamma': 1, 'degree': 4, 'C': 10}]"
      ]
     },
     "execution_count": 48,
     "metadata": {},
     "output_type": "execute_result"
    }
   ],
   "source": [
    "classifier_SVM.grid_scores_"
   ]
  },
  {
   "cell_type": "code",
   "execution_count": 49,
   "metadata": {},
   "outputs": [
    {
     "name": "stdout",
     "output_type": "stream",
     "text": [
      "Best Accuracy :  0.9909533750869868\n",
      "Best Index :  6\n",
      "Best Parameters :  {'kernel': 'rbf', 'gamma': 0.001, 'degree': 3, 'C': 5}\n",
      "Best Estimator :  SVC(C=5, cache_size=200, class_weight=None, coef0=0.0,\n",
      "  decision_function_shape='ovr', degree=3, gamma=0.001, kernel='rbf',\n",
      "  max_iter=-1, probability=False, random_state=None, shrinking=True,\n",
      "  tol=0.001, verbose=False)\n",
      "Mean Time of each validation :  [0.03710051 0.1317471  0.61375771 0.06352932 0.39334819 0.08766501\n",
      " 0.13015082 0.43493652 0.05206022 0.05066357]\n",
      "Time for all cross-validations of best index :  1.3015081882476807 seconds\n",
      "Total Time :  7.181798219680786\n"
     ]
    }
   ],
   "source": [
    "best_score_SVM = classifier_SVM.best_score_\n",
    "best_index_SVM = classifier_SVM.best_index_\n",
    "best_parameters_SVM = classifier_SVM.best_params_\n",
    "best_estimator_SVM = classifier_SVM.best_estimator_\n",
    "time_for_all_validations_SVM = classifier_SVM.cv_results_['mean_fit_time']\n",
    "time_best_index_SVM = time_for_all_validations_SVM[best_index_SVM]\n",
    "\n",
    "print('Best Accuracy : ', best_score_SVM)\n",
    "print('Best Index : ', best_index_SVM)\n",
    "print('Best Parameters : ', best_parameters_SVM)\n",
    "print('Best Estimator : ', best_estimator_SVM)\n",
    "print('Mean Time of each validation : ', time_for_all_validations_SVM)\n",
    "print('Time for all cross-validations of best index : ', time_best_index_SVM*no_cv, 'seconds')\n",
    "\n",
    "training_time_SVM = end_training_SVM - start_training_SVM\n",
    "print('Total Time : ', training_time_SVM)"
   ]
  },
  {
   "cell_type": "code",
   "execution_count": 50,
   "metadata": {},
   "outputs": [
    {
     "name": "stdout",
     "output_type": "stream",
     "text": [
      "Predicted Labels :  [6 9 3 7 2 1 5 2 5 2 1 9 4 0 4 2 3 7 8 8 4 3 9 7 5 6 3 5 6 3 4 9 1 4 4 6 9\n",
      " 4 7 6 6 9 1 3 6 1 3 0 6 5 5 1 9 5 6 0 9 0 0 1 0 4 5 2 4 5 7 0 7 5 9 5 5 4\n",
      " 7 0 4 5 5 9 9 0 2 3 8 0 6 4 4 9 1 2 8 3 5 2 9 0 4 4 4 3 5 3 1 3 5 9 4 2 7\n",
      " 7 4 4 1 9 2 7 8 7 2 6 9 4 0 7 2 7 5 8 7 5 7 9 0 6 6 4 2 8 0 9 4 6 9 9 6 9\n",
      " 0 5 5 6 6 0 6 4 3 9 3 7 7 2 9 0 4 5 3 6 5 9 9 8 4 2 1 3 7 7 2 2 3 9 8 0 3\n",
      " 2 2 5 6 9 9 4 1 5 4 2 3 6 4 8 5 9 5 7 8 9 4 8 1 5 4 4 9 6 1 8 6 0 4 5 2 7\n",
      " 4 6 4 5 6 0 3 2 3 6 7 1 5 1 4 7 6 8 8 5 5 1 6 2 8 8 9 9 7 6 2 2 2 3 4 8 8\n",
      " 3 6 0 9 7 7 0 1 0 4 5 1 5 3 6 0 4 1 0 0 3 6 5 9 7 3 5 5 9 9 8 5 3 3 2 0 5\n",
      " 8 3 4 0 2 4 6 4 3 4 5 0 5 2 1 3 1 4 1 1 7 0 1 5 2 1 2 8 7 0 6 4 8 8 5 1 8\n",
      " 4 5 8 7 9 8 6 0 6 2 0 7 9 8 9 5 2 7 7 1 8 7 4 3 8 3 5]\n",
      "Actual Labels :  [6 9 3 7 2 1 5 2 5 2 1 9 4 0 4 2 3 7 8 8 4 3 9 7 5 6 3 5 6 3 4 9 1 4 4 6 9\n",
      " 4 7 6 6 9 1 3 6 1 3 0 6 5 5 1 9 5 6 0 9 0 0 1 0 4 5 2 4 5 7 0 7 5 9 5 5 4\n",
      " 7 0 4 5 5 9 9 0 2 3 8 0 6 4 4 9 1 2 8 3 5 2 9 0 4 4 4 3 5 3 1 3 5 9 4 2 7\n",
      " 7 4 4 1 9 2 7 8 7 2 6 9 4 0 7 2 7 5 8 7 5 7 7 0 6 6 4 2 8 0 9 4 6 9 9 6 9\n",
      " 0 3 5 6 6 0 6 4 3 9 3 9 7 2 9 0 4 5 3 6 5 9 9 8 4 2 1 3 7 7 2 2 3 9 8 0 3\n",
      " 2 2 5 6 9 9 4 1 5 4 2 3 6 4 8 5 9 5 7 8 9 4 8 1 5 4 4 9 6 1 8 6 0 4 5 2 7\n",
      " 4 6 4 5 6 0 3 2 3 6 7 1 5 1 4 7 6 8 8 5 5 1 6 2 8 8 9 9 7 6 2 2 2 3 4 8 8\n",
      " 3 6 0 9 7 7 0 1 0 4 5 1 5 3 6 0 4 1 0 0 3 6 5 9 7 3 5 5 9 9 8 5 3 3 2 0 5\n",
      " 8 3 4 0 2 4 6 4 3 4 5 0 5 2 1 3 1 4 1 1 7 0 1 5 2 1 2 8 7 0 6 4 8 8 5 1 8\n",
      " 4 5 8 7 9 8 5 0 6 2 0 7 9 8 9 5 2 7 7 1 8 7 4 3 8 3 5]\n",
      "Predicted Labels Shape :  (360,)\n",
      "Actual Labels Shape :  (360,)\n",
      "Test Accuracy :  0.9888888888888889\n",
      "Prediction Time :  0.023935556411743164\n"
     ]
    }
   ],
   "source": [
    "start_testing_SVM = time.time()\n",
    "predict_SVM = classifier_SVM.predict(test_dataset)\n",
    "end_testing_SVM = time.time()\n",
    "\n",
    "print('Predicted Labels : ', predict_SVM)\n",
    "print('Actual Labels : ', y_test)\n",
    "print('Predicted Labels Shape : ', predict_SVM.shape)\n",
    "print('Actual Labels Shape : ', y_test.shape)\n",
    "\n",
    "test_score_SVM = classifier_SVM.score(test_dataset, y_test)\n",
    "print('Test Accuracy : ', test_score_SVM)\n",
    "\n",
    "testing_time_SVM = end_testing_SVM - start_testing_SVM\n",
    "print('Prediction Time : ', testing_time_SVM)"
   ]
  },
  {
   "cell_type": "code",
   "execution_count": 51,
   "metadata": {},
   "outputs": [
    {
     "name": "stdout",
     "output_type": "stream",
     "text": [
      "Predicted Labels :  [6 9 3 7 2 1 5 2 5 2 1 9 4 0 4 2 3 7 8 8 4 3 9 7 5 6 3 5 6 3 4 9 1 4 4 6 9\n",
      " 4 7 6 6 9 1 3 6 1 3 0 6 5 5 1 9 5 6 0 9 0 0 1 0 4 5 2 4 5 7 0 7 5 9 5 5 4\n",
      " 7 0 4 5 5 9 9 0 2 3 8 0 6 4 4 9 1 2 8 3 5 2 9 0 4 4 4 3 5 3 1 3 5 9 4 2 7\n",
      " 7 4 4 1 9 2 7 8 7 2 6 9 4 0 7 2 7 5 8 7 5 7 9 0 6 6 4 2 8 0 9 4 6 9 9 6 9\n",
      " 0 5 5 6 6 0 6 4 3 9 3 7 7 2 9 0 4 5 3 6 5 9 9 8 4 2 1 3 7 7 2 2 3 9 8 0 3\n",
      " 2 2 5 6 9 9 4 1 5 4 2 3 6 4 8 5 9 5 7 8 9 4 8 1 5 4 4 9 6 1 8 6 0 4 5 2 7\n",
      " 4 6 4 5 6 0 3 2 3 6 7 1 5 1 4 7 6 8 8 5 5 1 6 2 8 8 9 9 7 6 2 2 2 3 4 8 8\n",
      " 3 6 0 9 7 7 0 1 0 4 5 1 5 3 6 0 4 1 0 0 3 6 5 9 7 3 5 5 9 9 8 5 3 3 2 0 5\n",
      " 8 3 4 0 2 4 6 4 3 4 5 0 5 2 1 3 1 4 1 1 7 0 1 5 2 1 2 8 7 0 6 4 8 8 5 1 8\n",
      " 4 5 8 7 9 8 6 0 6 2 0 7 9 8 9 5 2 7 7 1 8 7 4 3 8 3 5]\n",
      "Test Accuracy :  0.9888888888888889\n",
      "Testing Time :  0.023935556411743164\n"
     ]
    }
   ],
   "source": [
    "# To save model\n",
    "model_SVM = \"Model_SVM.pkl\"  \n",
    "joblib.dump(classifier_SVM, model_SVM)\n",
    "\n",
    "# To load model\n",
    "loaded_model_SVM = joblib.load(model_SVM)\n",
    "\n",
    "# Operations with loaded model\n",
    "start_testing_SVM = time.time()\n",
    "predict_SVM = loaded_model_SVM.predict(test_dataset)\n",
    "#predict_prob_SVM = loaded_model_SVM.predict_proba(test_dataset)\n",
    "end_testing_SVM = time.time()\n",
    "\n",
    "print('Predicted Labels : ', predict_SVM)\n",
    "test_score_SVM = metrics.accuracy_score(y_test, predict_SVM)\n",
    "print('Test Accuracy : ', test_score_SVM)\n",
    "\n",
    "testing_time_SVM = end_testing_SVM - start_testing_SVM\n",
    "print('Testing Time : ', testing_time_SVM)"
   ]
  },
  {
   "cell_type": "markdown",
   "metadata": {},
   "source": [
    "# Logistic Regression Classifier"
   ]
  },
  {
   "cell_type": "code",
   "execution_count": 52,
   "metadata": {},
   "outputs": [
    {
     "name": "stdout",
     "output_type": "stream",
     "text": [
      "Default Parameters currently in use:\n",
      "\n",
      "{'C': 1.0,\n",
      " 'class_weight': None,\n",
      " 'dual': False,\n",
      " 'fit_intercept': True,\n",
      " 'intercept_scaling': 1,\n",
      " 'max_iter': 100,\n",
      " 'multi_class': 'ovr',\n",
      " 'n_jobs': 1,\n",
      " 'penalty': 'l2',\n",
      " 'random_state': None,\n",
      " 'solver': 'liblinear',\n",
      " 'tol': 0.0001,\n",
      " 'verbose': 0,\n",
      " 'warm_start': False}\n"
     ]
    }
   ],
   "source": [
    "clf_LR = LogisticRegression()\n",
    "print('Default Parameters currently in use:\\n')\n",
    "pprint(clf_LR.get_params())"
   ]
  },
  {
   "cell_type": "code",
   "execution_count": 53,
   "metadata": {},
   "outputs": [],
   "source": [
    "# Used to specify the norm used in the penalization\n",
    "#penalty = ['l1', 'l2']\n",
    "\n",
    "# Tolerance for stopping criteria\n",
    "tol = [0.0001, 0.001, 0.01, 0.1]\n",
    "\n",
    "# Inverse of regularization strength\n",
    "C = [1, 10]\n",
    "\n",
    "# Algorithm to use in the optimization problem\n",
    "#solver = ['newton-cg', 'lbfgs', 'liblinear', 'sag', 'saga']\n",
    "solver = ['newton-cg', 'lbfgs', 'liblinear', 'sag']\n",
    "\n",
    "#Maximum number of iterations taken for the solvers to converge\n",
    "max_iter = [200, 400]\n",
    "\n",
    "# if the option chosen is ‘ovr’, then a binary problem is fit for each label\n",
    "#multi_class = ['ovr', 'multinomial', 'auto']"
   ]
  },
  {
   "cell_type": "code",
   "execution_count": 54,
   "metadata": {},
   "outputs": [
    {
     "name": "stdout",
     "output_type": "stream",
     "text": [
      "Fitting 10 folds for each of 10 candidates, totalling 100 fits\n"
     ]
    },
    {
     "name": "stderr",
     "output_type": "stream",
     "text": [
      "[Parallel(n_jobs=-1)]: Done  34 tasks      | elapsed:   19.1s\n",
      "[Parallel(n_jobs=-1)]: Done 100 out of 100 | elapsed:   57.0s finished\n",
      "C:\\Users\\Shoaib\\Anaconda3\\lib\\site-packages\\sklearn\\linear_model\\sag.py:326: ConvergenceWarning: The max_iter was reached which means the coef_ did not converge\n",
      "  \"the coef_ did not converge\", ConvergenceWarning)\n"
     ]
    }
   ],
   "source": [
    "param_Linear_Reg = {'tol':tol, 'C':C, 'solver':solver, 'max_iter':max_iter}\n",
    "\n",
    "classifier_Linear_Reg = RandomizedSearchCV(estimator = clf_LR, param_distributions=param_Linear_Reg, n_iter=no_iter, cv=no_cv, verbose=no_verbose, random_state=42, n_jobs=no_process)\n",
    "\n",
    "# Fit the random search model\n",
    "start_training_Linear_Reg = time.time()\n",
    "classifier_Linear_Reg.fit(train_dataset, y_train)\n",
    "end_training_Linear_Reg = time.time()"
   ]
  },
  {
   "cell_type": "code",
   "execution_count": 55,
   "metadata": {},
   "outputs": [
    {
     "name": "stderr",
     "output_type": "stream",
     "text": [
      "C:\\Users\\Shoaib\\Anaconda3\\lib\\site-packages\\sklearn\\model_selection\\_search.py:761: DeprecationWarning: The grid_scores_ attribute was deprecated in version 0.18 in favor of the more elaborate cv_results_ attribute. The grid_scores_ attribute will not be available from 0.20\n",
      "  DeprecationWarning)\n"
     ]
    },
    {
     "data": {
      "text/plain": [
       "[mean: 0.94711, std: 0.01719, params: {'tol': 0.0001, 'solver': 'lbfgs', 'max_iter': 400, 'C': 10},\n",
       " mean: 0.94502, std: 0.01457, params: {'tol': 0.01, 'solver': 'liblinear', 'max_iter': 400, 'C': 10},\n",
       " mean: 0.95546, std: 0.01670, params: {'tol': 0.0001, 'solver': 'newton-cg', 'max_iter': 200, 'C': 1},\n",
       " mean: 0.95755, std: 0.01394, params: {'tol': 0.0001, 'solver': 'sag', 'max_iter': 200, 'C': 10},\n",
       " mean: 0.95616, std: 0.01463, params: {'tol': 0.001, 'solver': 'lbfgs', 'max_iter': 200, 'C': 1},\n",
       " mean: 0.94363, std: 0.01288, params: {'tol': 0.0001, 'solver': 'lbfgs', 'max_iter': 200, 'C': 10},\n",
       " mean: 0.95546, std: 0.01670, params: {'tol': 0.0001, 'solver': 'newton-cg', 'max_iter': 400, 'C': 1},\n",
       " mean: 0.95825, std: 0.01408, params: {'tol': 0.0001, 'solver': 'sag', 'max_iter': 200, 'C': 1},\n",
       " mean: 0.95546, std: 0.01267, params: {'tol': 0.001, 'solver': 'liblinear', 'max_iter': 400, 'C': 1},\n",
       " mean: 0.95685, std: 0.01536, params: {'tol': 0.001, 'solver': 'sag', 'max_iter': 400, 'C': 10}]"
      ]
     },
     "execution_count": 55,
     "metadata": {},
     "output_type": "execute_result"
    }
   ],
   "source": [
    "classifier_Linear_Reg.grid_scores_"
   ]
  },
  {
   "cell_type": "code",
   "execution_count": 56,
   "metadata": {},
   "outputs": [
    {
     "name": "stdout",
     "output_type": "stream",
     "text": [
      "Best Accuracy :  0.9582463465553236\n",
      "Best Index :  7\n",
      "Best Parameters :  {'tol': 0.0001, 'solver': 'sag', 'max_iter': 200, 'C': 1}\n",
      "Best Estimator :  LogisticRegression(C=1, class_weight=None, dual=False, fit_intercept=True,\n",
      "          intercept_scaling=1, max_iter=200, multi_class='ovr', n_jobs=1,\n",
      "          penalty='l2', random_state=None, solver='sag', tol=0.0001,\n",
      "          verbose=0, warm_start=False)\n",
      "Mean Time of each validation :  [ 2.417237    0.1477047   8.07122016  4.10003779  2.31311674  2.00593674\n",
      " 11.63020418  4.8239018   0.24115417  6.85188012]\n",
      "Time for all cross-validations of best index :  48.239017963409424 seconds\n",
      "Total Training Time Linear Regression Classifier :  59.52983903884888 seconds\n"
     ]
    }
   ],
   "source": [
    "best_score_LR = classifier_Linear_Reg.best_score_\n",
    "best_index_LR = classifier_Linear_Reg.best_index_\n",
    "best_parameters_LR = classifier_Linear_Reg.best_params_\n",
    "best_estimator_LR = classifier_Linear_Reg.best_estimator_\n",
    "time_for_all_validations_LR = classifier_Linear_Reg.cv_results_['mean_fit_time']\n",
    "time_best_index_LR = time_for_all_validations_LR[best_index_LR]\n",
    "\n",
    "print('Best Accuracy : ', best_score_LR)\n",
    "print('Best Index : ', best_index_LR)\n",
    "print('Best Parameters : ', best_parameters_LR)\n",
    "print('Best Estimator : ', best_estimator_LR)\n",
    "print('Mean Time of each validation : ', time_for_all_validations_LR)\n",
    "print('Time for all cross-validations of best index : ', time_best_index_LR*no_cv, 'seconds')\n",
    "\n",
    "training_time_Linear_Reg = end_training_Linear_Reg - start_training_Linear_Reg\n",
    "print('Total Training Time Linear Regression Classifier : ', training_time_Linear_Reg, 'seconds')"
   ]
  },
  {
   "cell_type": "code",
   "execution_count": 57,
   "metadata": {},
   "outputs": [
    {
     "name": "stdout",
     "output_type": "stream",
     "text": [
      "Predicted Labels :  [6 9 3 7 2 1 5 2 5 2 1 8 4 0 4 2 3 7 8 8 4 3 9 7 5 6 3 5 6 3 4 9 1 4 4 6 9\n",
      " 4 7 6 6 9 1 3 6 1 3 0 6 5 5 1 9 5 6 0 9 0 0 1 0 4 5 2 4 5 7 0 7 5 9 5 5 4\n",
      " 7 0 4 5 5 9 9 0 2 3 8 0 6 4 4 9 1 2 8 3 5 2 9 0 4 4 4 3 5 3 1 3 5 9 4 2 7\n",
      " 7 4 4 1 9 2 7 8 7 2 6 9 4 0 7 2 7 5 8 7 5 7 9 0 6 6 4 2 8 0 9 4 6 9 9 6 9\n",
      " 0 5 5 6 6 0 6 4 3 9 3 8 7 2 9 0 6 5 3 6 5 8 9 8 4 2 1 3 7 7 2 2 3 9 8 0 3\n",
      " 2 2 5 6 9 9 4 1 2 4 2 3 6 4 8 5 9 5 7 8 9 4 8 1 5 4 4 9 6 1 8 6 0 4 5 2 7\n",
      " 1 6 4 5 6 0 3 2 3 6 7 1 5 1 4 7 6 5 8 5 5 1 5 2 8 8 9 8 7 6 2 2 2 3 4 8 8\n",
      " 3 6 0 9 7 7 0 1 0 4 5 1 5 3 6 0 4 1 0 0 3 6 5 9 7 3 5 5 9 9 8 5 3 3 2 0 5\n",
      " 8 3 4 0 2 4 6 4 3 4 5 0 5 2 1 3 1 4 1 1 7 0 1 5 2 1 2 8 7 0 6 4 8 8 5 1 8\n",
      " 4 5 8 7 9 8 6 0 6 2 0 7 9 1 9 5 2 7 7 1 8 7 4 3 8 3 5]\n",
      "Actual Labels :  [6 9 3 7 2 1 5 2 5 2 1 9 4 0 4 2 3 7 8 8 4 3 9 7 5 6 3 5 6 3 4 9 1 4 4 6 9\n",
      " 4 7 6 6 9 1 3 6 1 3 0 6 5 5 1 9 5 6 0 9 0 0 1 0 4 5 2 4 5 7 0 7 5 9 5 5 4\n",
      " 7 0 4 5 5 9 9 0 2 3 8 0 6 4 4 9 1 2 8 3 5 2 9 0 4 4 4 3 5 3 1 3 5 9 4 2 7\n",
      " 7 4 4 1 9 2 7 8 7 2 6 9 4 0 7 2 7 5 8 7 5 7 7 0 6 6 4 2 8 0 9 4 6 9 9 6 9\n",
      " 0 3 5 6 6 0 6 4 3 9 3 9 7 2 9 0 4 5 3 6 5 9 9 8 4 2 1 3 7 7 2 2 3 9 8 0 3\n",
      " 2 2 5 6 9 9 4 1 5 4 2 3 6 4 8 5 9 5 7 8 9 4 8 1 5 4 4 9 6 1 8 6 0 4 5 2 7\n",
      " 4 6 4 5 6 0 3 2 3 6 7 1 5 1 4 7 6 8 8 5 5 1 6 2 8 8 9 9 7 6 2 2 2 3 4 8 8\n",
      " 3 6 0 9 7 7 0 1 0 4 5 1 5 3 6 0 4 1 0 0 3 6 5 9 7 3 5 5 9 9 8 5 3 3 2 0 5\n",
      " 8 3 4 0 2 4 6 4 3 4 5 0 5 2 1 3 1 4 1 1 7 0 1 5 2 1 2 8 7 0 6 4 8 8 5 1 8\n",
      " 4 5 8 7 9 8 5 0 6 2 0 7 9 8 9 5 2 7 7 1 8 7 4 3 8 3 5]\n",
      "Predicted Labels Shape :  (360,)\n",
      "Actual Labels Shape :  (360,)\n",
      "Test Accuracy :  0.9638888888888889\n",
      "Testing Time :  0.0010039806365966797\n"
     ]
    }
   ],
   "source": [
    "start_testing_Linear_Reg = time.time()\n",
    "predict_Linear_Reg = classifier_Linear_Reg.predict(test_dataset)\n",
    "end_testing_Linear_Reg = time.time()\n",
    "\n",
    "print('Predicted Labels : ', predict_Linear_Reg)\n",
    "print('Actual Labels : ', y_test)\n",
    "print('Predicted Labels Shape : ', predict_Linear_Reg.shape)\n",
    "print('Actual Labels Shape : ', y_test.shape)\n",
    "\n",
    "test_score_Linear_Reg = classifier_Linear_Reg.score(test_dataset, y_test)\n",
    "print('Test Accuracy : ', test_score_Linear_Reg)\n",
    "\n",
    "testing_time_Linear_Reg = end_testing_Linear_Reg - start_testing_Linear_Reg\n",
    "print('Testing Time : ', testing_time_Linear_Reg)"
   ]
  },
  {
   "cell_type": "code",
   "execution_count": 58,
   "metadata": {},
   "outputs": [
    {
     "name": "stdout",
     "output_type": "stream",
     "text": [
      "Predicted Labels :  [6 9 3 7 2 1 5 2 5 2 1 8 4 0 4 2 3 7 8 8 4 3 9 7 5 6 3 5 6 3 4 9 1 4 4 6 9\n",
      " 4 7 6 6 9 1 3 6 1 3 0 6 5 5 1 9 5 6 0 9 0 0 1 0 4 5 2 4 5 7 0 7 5 9 5 5 4\n",
      " 7 0 4 5 5 9 9 0 2 3 8 0 6 4 4 9 1 2 8 3 5 2 9 0 4 4 4 3 5 3 1 3 5 9 4 2 7\n",
      " 7 4 4 1 9 2 7 8 7 2 6 9 4 0 7 2 7 5 8 7 5 7 9 0 6 6 4 2 8 0 9 4 6 9 9 6 9\n",
      " 0 5 5 6 6 0 6 4 3 9 3 8 7 2 9 0 6 5 3 6 5 8 9 8 4 2 1 3 7 7 2 2 3 9 8 0 3\n",
      " 2 2 5 6 9 9 4 1 2 4 2 3 6 4 8 5 9 5 7 8 9 4 8 1 5 4 4 9 6 1 8 6 0 4 5 2 7\n",
      " 1 6 4 5 6 0 3 2 3 6 7 1 5 1 4 7 6 5 8 5 5 1 5 2 8 8 9 8 7 6 2 2 2 3 4 8 8\n",
      " 3 6 0 9 7 7 0 1 0 4 5 1 5 3 6 0 4 1 0 0 3 6 5 9 7 3 5 5 9 9 8 5 3 3 2 0 5\n",
      " 8 3 4 0 2 4 6 4 3 4 5 0 5 2 1 3 1 4 1 1 7 0 1 5 2 1 2 8 7 0 6 4 8 8 5 1 8\n",
      " 4 5 8 7 9 8 6 0 6 2 0 7 9 1 9 5 2 7 7 1 8 7 4 3 8 3 5]\n",
      "Test Accuracy :  0.9638888888888889\n",
      "Testing Time :  0.0009987354278564453\n"
     ]
    }
   ],
   "source": [
    "# To save model\n",
    "model_LR = \"Model_LR.pkl\"  \n",
    "joblib.dump(classifier_Linear_Reg, model_LR)\n",
    "\n",
    "# To load model\n",
    "loaded_model_Linear_Reg = joblib.load(model_LR)\n",
    "\n",
    "# Operations with loaded model\n",
    "start_testing_Linear_Reg = time.time()\n",
    "predict_Linear_Reg = loaded_model_Linear_Reg.predict(test_dataset)\n",
    "#predict_prob_Linear_Reg = loaded_model_Linear_Reg.predict_proba(test_dataset)\n",
    "end_testing_Linear_Reg = time.time()\n",
    "\n",
    "print('Predicted Labels : ', predict_Linear_Reg)\n",
    "test_score_Linear_Reg = metrics.accuracy_score(y_test, predict_Linear_Reg)\n",
    "print('Test Accuracy : ', test_score_Linear_Reg)\n",
    "\n",
    "testing_time_Linear_Reg = end_testing_Linear_Reg - start_testing_Linear_Reg\n",
    "print('Testing Time : ', testing_time_Linear_Reg)"
   ]
  },
  {
   "cell_type": "markdown",
   "metadata": {},
   "source": [
    "# Multinomial Naive Bayes Classifier"
   ]
  },
  {
   "cell_type": "code",
   "execution_count": 59,
   "metadata": {},
   "outputs": [
    {
     "name": "stdout",
     "output_type": "stream",
     "text": [
      "Default Parameters currently in use:\n",
      "\n",
      "{'alpha': 1.0, 'class_prior': None, 'fit_prior': True}\n"
     ]
    }
   ],
   "source": [
    "clf_MNB = MultinomialNB()\n",
    "print('Default Parameters currently in use:\\n')\n",
    "pprint(clf_MNB.get_params())"
   ]
  },
  {
   "cell_type": "code",
   "execution_count": 60,
   "metadata": {},
   "outputs": [],
   "source": [
    "alpha = [0, 1, 2, 3, 4, 5, 6, 7, 8, 9, 10]\n",
    "\n",
    "fit_prior = [True, False]"
   ]
  },
  {
   "cell_type": "code",
   "execution_count": 61,
   "metadata": {},
   "outputs": [
    {
     "name": "stdout",
     "output_type": "stream",
     "text": [
      "Fitting 10 folds for each of 10 candidates, totalling 100 fits\n"
     ]
    },
    {
     "name": "stderr",
     "output_type": "stream",
     "text": [
      "[Parallel(n_jobs=-1)]: Done  34 tasks      | elapsed:    1.9s\n",
      "[Parallel(n_jobs=-1)]: Done 100 out of 100 | elapsed:    2.3s finished\n"
     ]
    }
   ],
   "source": [
    "param_Multinomial_NB = {'alpha':alpha, 'fit_prior':fit_prior}\n",
    "\n",
    "classifier_Multinomial_NB = RandomizedSearchCV(estimator = clf_MNB, param_distributions=param_Multinomial_NB, n_iter=no_iter, cv=no_cv, verbose=no_verbose, random_state=42, n_jobs=no_process)\n",
    "\n",
    "# Fit the random search model\n",
    "start_training_Multinomial_NB = time.time()\n",
    "classifier_Multinomial_NB.fit(train_dataset, y_train)\n",
    "end_training_Multinomial_NB = time.time()"
   ]
  },
  {
   "cell_type": "code",
   "execution_count": 62,
   "metadata": {},
   "outputs": [
    {
     "name": "stderr",
     "output_type": "stream",
     "text": [
      "C:\\Users\\Shoaib\\Anaconda3\\lib\\site-packages\\sklearn\\model_selection\\_search.py:761: DeprecationWarning: The grid_scores_ attribute was deprecated in version 0.18 in favor of the more elaborate cv_results_ attribute. The grid_scores_ attribute will not be available from 0.20\n",
      "  DeprecationWarning)\n"
     ]
    },
    {
     "data": {
      "text/plain": [
       "[mean: 0.89422, std: 0.02860, params: {'fit_prior': True, 'alpha': 0},\n",
       " mean: 0.90188, std: 0.02717, params: {'fit_prior': False, 'alpha': 6},\n",
       " mean: 0.90049, std: 0.02637, params: {'fit_prior': True, 'alpha': 4},\n",
       " mean: 0.89422, std: 0.02860, params: {'fit_prior': False, 'alpha': 0},\n",
       " mean: 0.90257, std: 0.02666, params: {'fit_prior': False, 'alpha': 7},\n",
       " mean: 0.89910, std: 0.02636, params: {'fit_prior': False, 'alpha': 2},\n",
       " mean: 0.90327, std: 0.02707, params: {'fit_prior': True, 'alpha': 10},\n",
       " mean: 0.90049, std: 0.02637, params: {'fit_prior': False, 'alpha': 5},\n",
       " mean: 0.89701, std: 0.02857, params: {'fit_prior': False, 'alpha': 1},\n",
       " mean: 0.89979, std: 0.02687, params: {'fit_prior': True, 'alpha': 2}]"
      ]
     },
     "execution_count": 62,
     "metadata": {},
     "output_type": "execute_result"
    }
   ],
   "source": [
    "classifier_Multinomial_NB.grid_scores_"
   ]
  },
  {
   "cell_type": "code",
   "execution_count": 63,
   "metadata": {},
   "outputs": [
    {
     "name": "stdout",
     "output_type": "stream",
     "text": [
      "Best Accuracy :  0.9032707028531664\n",
      "Best Index :  6\n",
      "Best Parameters :  {'fit_prior': True, 'alpha': 10}\n",
      "Best Estimator :  MultinomialNB(alpha=10, class_prior=None, fit_prior=True)\n",
      "Mean Time of each validation :  [0.02513263 0.00199487 0.00189462 0.00229371 0.01805134 0.04517829\n",
      " 0.01087093 0.027127   0.02852287 0.02812374]\n",
      "Time for all cross-validations of best index :  0.10870933532714844 seconds\n",
      "Total Training Time Multinomial Naive Bayes Classifier :  2.5950605869293213 seconds\n"
     ]
    }
   ],
   "source": [
    "best_score_MNB = classifier_Multinomial_NB.best_score_\n",
    "best_index_MNB = classifier_Multinomial_NB.best_index_\n",
    "best_parameters_MNB = classifier_Multinomial_NB.best_params_\n",
    "best_estimator_MNB = classifier_Multinomial_NB.best_estimator_\n",
    "time_for_all_validations_MNB = classifier_Multinomial_NB.cv_results_['mean_fit_time']\n",
    "time_best_index_MNB = time_for_all_validations_MNB[best_index_MNB]\n",
    "\n",
    "print('Best Accuracy : ', best_score_MNB)\n",
    "print('Best Index : ', best_index_MNB)\n",
    "print('Best Parameters : ', best_parameters_MNB)\n",
    "print('Best Estimator : ', best_estimator_MNB)\n",
    "print('Mean Time of each validation : ', time_for_all_validations_MNB)\n",
    "print('Time for all cross-validations of best index : ', time_best_index_MNB*no_cv, 'seconds')\n",
    "\n",
    "training_time_Multinomial_NB = end_training_Multinomial_NB - start_training_Multinomial_NB\n",
    "print('Total Training Time Multinomial Naive Bayes Classifier : ', training_time_Multinomial_NB, 'seconds')"
   ]
  },
  {
   "cell_type": "code",
   "execution_count": 64,
   "metadata": {},
   "outputs": [
    {
     "name": "stdout",
     "output_type": "stream",
     "text": [
      "Predicted Labels :  [6 9 3 7 2 2 5 2 5 2 1 4 4 0 4 2 3 7 8 8 4 3 9 7 5 6 3 5 6 3 4 9 2 4 4 6 9\n",
      " 4 7 6 6 9 1 3 6 1 3 0 6 5 5 1 9 5 6 0 9 0 0 1 0 4 5 2 4 5 7 0 7 5 9 9 5 4\n",
      " 7 0 4 5 9 9 9 0 2 3 8 0 6 4 4 9 1 2 1 3 9 2 9 4 4 4 4 3 5 3 1 8 5 7 4 2 7\n",
      " 7 4 4 1 9 8 7 8 7 2 6 9 4 0 7 2 7 5 8 7 5 7 7 0 6 6 4 2 8 0 9 4 6 9 9 6 9\n",
      " 0 9 5 6 6 0 6 4 2 9 3 8 7 2 9 0 4 5 8 6 5 7 9 8 4 2 1 3 7 7 2 2 3 9 8 0 3\n",
      " 2 2 5 6 9 9 4 1 5 4 2 3 6 4 8 5 9 5 7 8 9 4 8 1 5 4 4 9 6 1 8 6 0 4 5 2 7\n",
      " 4 6 4 5 6 0 3 2 3 6 7 9 9 2 4 7 6 8 1 5 5 1 4 2 8 8 7 5 7 6 2 2 2 3 4 8 8\n",
      " 3 6 0 9 7 7 0 1 0 4 9 8 5 3 6 0 4 1 0 0 3 6 5 9 7 3 5 9 9 9 8 5 3 3 1 0 5\n",
      " 8 3 4 0 2 4 6 4 3 4 5 0 5 2 2 3 1 4 1 1 7 0 1 5 2 1 2 8 7 0 6 4 8 8 5 1 8\n",
      " 4 5 8 7 9 8 6 0 6 2 0 7 9 8 9 5 2 7 7 9 8 7 4 3 8 3 9]\n",
      "Actual Labels :  [6 9 3 7 2 1 5 2 5 2 1 9 4 0 4 2 3 7 8 8 4 3 9 7 5 6 3 5 6 3 4 9 1 4 4 6 9\n",
      " 4 7 6 6 9 1 3 6 1 3 0 6 5 5 1 9 5 6 0 9 0 0 1 0 4 5 2 4 5 7 0 7 5 9 5 5 4\n",
      " 7 0 4 5 5 9 9 0 2 3 8 0 6 4 4 9 1 2 8 3 5 2 9 0 4 4 4 3 5 3 1 3 5 9 4 2 7\n",
      " 7 4 4 1 9 2 7 8 7 2 6 9 4 0 7 2 7 5 8 7 5 7 7 0 6 6 4 2 8 0 9 4 6 9 9 6 9\n",
      " 0 3 5 6 6 0 6 4 3 9 3 9 7 2 9 0 4 5 3 6 5 9 9 8 4 2 1 3 7 7 2 2 3 9 8 0 3\n",
      " 2 2 5 6 9 9 4 1 5 4 2 3 6 4 8 5 9 5 7 8 9 4 8 1 5 4 4 9 6 1 8 6 0 4 5 2 7\n",
      " 4 6 4 5 6 0 3 2 3 6 7 1 5 1 4 7 6 8 8 5 5 1 6 2 8 8 9 9 7 6 2 2 2 3 4 8 8\n",
      " 3 6 0 9 7 7 0 1 0 4 5 1 5 3 6 0 4 1 0 0 3 6 5 9 7 3 5 5 9 9 8 5 3 3 2 0 5\n",
      " 8 3 4 0 2 4 6 4 3 4 5 0 5 2 1 3 1 4 1 1 7 0 1 5 2 1 2 8 7 0 6 4 8 8 5 1 8\n",
      " 4 5 8 7 9 8 5 0 6 2 0 7 9 8 9 5 2 7 7 1 8 7 4 3 8 3 5]\n",
      "Predicted Labels Shape :  (360,)\n",
      "Actual Labels Shape :  (360,)\n",
      "Test Accuracy :  0.9138888888888889\n",
      "Testing Time :  0.000997304916381836\n"
     ]
    }
   ],
   "source": [
    "start_testing_Multinomial_NB = time.time()\n",
    "predict_Multinomial_NB = classifier_Multinomial_NB.predict(test_dataset)\n",
    "end_testing_Multinomial_NB = time.time()\n",
    "\n",
    "print('Predicted Labels : ', predict_Multinomial_NB)\n",
    "print('Actual Labels : ', y_test)\n",
    "print('Predicted Labels Shape : ', predict_Multinomial_NB.shape)\n",
    "print('Actual Labels Shape : ', y_test.shape)\n",
    "\n",
    "test_score_Multinomial_NB = classifier_Multinomial_NB.score(test_dataset, y_test)\n",
    "print('Test Accuracy : ', test_score_Multinomial_NB)\n",
    "\n",
    "testing_time_Multinomial_NB = end_testing_Multinomial_NB - start_testing_Multinomial_NB\n",
    "print('Testing Time : ', testing_time_Multinomial_NB)"
   ]
  },
  {
   "cell_type": "code",
   "execution_count": 65,
   "metadata": {},
   "outputs": [
    {
     "name": "stdout",
     "output_type": "stream",
     "text": [
      "Predicted Labels :  [6 9 3 7 2 2 5 2 5 2 1 4 4 0 4 2 3 7 8 8 4 3 9 7 5 6 3 5 6 3 4 9 2 4 4 6 9\n",
      " 4 7 6 6 9 1 3 6 1 3 0 6 5 5 1 9 5 6 0 9 0 0 1 0 4 5 2 4 5 7 0 7 5 9 9 5 4\n",
      " 7 0 4 5 9 9 9 0 2 3 8 0 6 4 4 9 1 2 1 3 9 2 9 4 4 4 4 3 5 3 1 8 5 7 4 2 7\n",
      " 7 4 4 1 9 8 7 8 7 2 6 9 4 0 7 2 7 5 8 7 5 7 7 0 6 6 4 2 8 0 9 4 6 9 9 6 9\n",
      " 0 9 5 6 6 0 6 4 2 9 3 8 7 2 9 0 4 5 8 6 5 7 9 8 4 2 1 3 7 7 2 2 3 9 8 0 3\n",
      " 2 2 5 6 9 9 4 1 5 4 2 3 6 4 8 5 9 5 7 8 9 4 8 1 5 4 4 9 6 1 8 6 0 4 5 2 7\n",
      " 4 6 4 5 6 0 3 2 3 6 7 9 9 2 4 7 6 8 1 5 5 1 4 2 8 8 7 5 7 6 2 2 2 3 4 8 8\n",
      " 3 6 0 9 7 7 0 1 0 4 9 8 5 3 6 0 4 1 0 0 3 6 5 9 7 3 5 9 9 9 8 5 3 3 1 0 5\n",
      " 8 3 4 0 2 4 6 4 3 4 5 0 5 2 2 3 1 4 1 1 7 0 1 5 2 1 2 8 7 0 6 4 8 8 5 1 8\n",
      " 4 5 8 7 9 8 6 0 6 2 0 7 9 8 9 5 2 7 7 9 8 7 4 3 8 3 9]\n",
      "Test Accuracy :  0.9138888888888889\n",
      "Testing Time :  0.0\n"
     ]
    }
   ],
   "source": [
    "# To save model\n",
    "model_MNB = \"Model_MNB.pkl\"  \n",
    "joblib.dump(classifier_Multinomial_NB, model_MNB)\n",
    "\n",
    "# To load model\n",
    "loaded_model_Multinomial_NB = joblib.load(model_MNB)\n",
    "\n",
    "# Operations with loaded model\n",
    "start_testing_Multinomial_NB = time.time()\n",
    "predict_Multinomial_NB = loaded_model_Multinomial_NB.predict(test_dataset)\n",
    "#predict_prob_Multinomial_NB = loaded_model_Multinomial_NB.predict_proba(test_dataset)\n",
    "end_testing_Multinomial_NB = time.time()\n",
    "\n",
    "print('Predicted Labels : ', predict_Multinomial_NB)\n",
    "test_score_Multinomial_NB = metrics.accuracy_score(y_test, predict_Multinomial_NB)\n",
    "print('Test Accuracy : ', test_score_Multinomial_NB)\n",
    "\n",
    "testing_time_Multinomial_NB = end_testing_Multinomial_NB - start_testing_Multinomial_NB\n",
    "print('Testing Time : ', testing_time_Multinomial_NB)"
   ]
  },
  {
   "cell_type": "markdown",
   "metadata": {},
   "source": [
    "# Ridge Classifier"
   ]
  },
  {
   "cell_type": "code",
   "execution_count": 66,
   "metadata": {},
   "outputs": [
    {
     "name": "stdout",
     "output_type": "stream",
     "text": [
      "Default Parameters currently in use:\n",
      "\n",
      "{'alpha': 1.0,\n",
      " 'class_weight': None,\n",
      " 'copy_X': True,\n",
      " 'fit_intercept': True,\n",
      " 'max_iter': None,\n",
      " 'normalize': False,\n",
      " 'random_state': None,\n",
      " 'solver': 'auto',\n",
      " 'tol': 0.001}\n"
     ]
    }
   ],
   "source": [
    "clf_Ridge = RidgeClassifier()\n",
    "print('Default Parameters currently in use:\\n')\n",
    "pprint(clf_Ridge.get_params())"
   ]
  },
  {
   "cell_type": "code",
   "execution_count": 67,
   "metadata": {},
   "outputs": [],
   "source": [
    "# Regularization strength\n",
    "alpha = [1, 5, 10, 50, 100]\n",
    "\n",
    "# Whether to calculate the intercept for this model\n",
    "fit_intercept = [True, False]\n",
    "\n",
    "# Solver to use in the computational routines\n",
    "solver = ['auto', 'svd', 'cholesky', 'lsqr', 'sparse_cg', 'sag', 'saga']"
   ]
  },
  {
   "cell_type": "code",
   "execution_count": 68,
   "metadata": {},
   "outputs": [
    {
     "name": "stdout",
     "output_type": "stream",
     "text": [
      "Fitting 10 folds for each of 10 candidates, totalling 100 fits\n"
     ]
    },
    {
     "name": "stderr",
     "output_type": "stream",
     "text": [
      "[Parallel(n_jobs=-1)]: Done  34 tasks      | elapsed:    2.6s\n",
      "[Parallel(n_jobs=-1)]: Done 100 out of 100 | elapsed:   33.3s finished\n"
     ]
    }
   ],
   "source": [
    "param_Ridge = {'alpha':alpha, 'fit_intercept':fit_intercept, 'solver':solver}\n",
    "\n",
    "classifier_Ridge = RandomizedSearchCV(estimator = clf_Ridge, param_distributions=param_Ridge, n_iter=no_iter, cv=no_cv, verbose=no_verbose, random_state=42, n_jobs=no_process)\n",
    "\n",
    "# Fit the random search model\n",
    "start_training_Ridge = time.time()\n",
    "classifier_Ridge.fit(train_dataset, y_train)\n",
    "end_training_Ridge = time.time()"
   ]
  },
  {
   "cell_type": "code",
   "execution_count": 69,
   "metadata": {},
   "outputs": [
    {
     "name": "stderr",
     "output_type": "stream",
     "text": [
      "C:\\Users\\Shoaib\\Anaconda3\\lib\\site-packages\\sklearn\\model_selection\\_search.py:761: DeprecationWarning: The grid_scores_ attribute was deprecated in version 0.18 in favor of the more elaborate cv_results_ attribute. The grid_scores_ attribute will not be available from 0.20\n",
      "  DeprecationWarning)\n"
     ]
    },
    {
     "data": {
      "text/plain": [
       "[mean: 0.93180, std: 0.01892, params: {'solver': 'svd', 'fit_intercept': False, 'alpha': 5},\n",
       " mean: 0.93459, std: 0.01945, params: {'solver': 'auto', 'fit_intercept': True, 'alpha': 1},\n",
       " mean: 0.93250, std: 0.01929, params: {'solver': 'auto', 'fit_intercept': False, 'alpha': 50},\n",
       " mean: 0.93528, std: 0.01994, params: {'solver': 'sparse_cg', 'fit_intercept': True, 'alpha': 1},\n",
       " mean: 0.93250, std: 0.01929, params: {'solver': 'sag', 'fit_intercept': False, 'alpha': 50},\n",
       " mean: 0.93459, std: 0.02037, params: {'solver': 'sparse_cg', 'fit_intercept': True, 'alpha': 5},\n",
       " mean: 0.93319, std: 0.01590, params: {'solver': 'lsqr', 'fit_intercept': False, 'alpha': 1},\n",
       " mean: 0.93528, std: 0.01994, params: {'solver': 'sag', 'fit_intercept': True, 'alpha': 10},\n",
       " mean: 0.93389, std: 0.01870, params: {'solver': 'lsqr', 'fit_intercept': True, 'alpha': 50},\n",
       " mean: 0.93250, std: 0.01905, params: {'solver': 'sag', 'fit_intercept': False, 'alpha': 1}]"
      ]
     },
     "execution_count": 69,
     "metadata": {},
     "output_type": "execute_result"
    }
   ],
   "source": [
    "classifier_Ridge.grid_scores_"
   ]
  },
  {
   "cell_type": "code",
   "execution_count": 70,
   "metadata": {},
   "outputs": [
    {
     "name": "stdout",
     "output_type": "stream",
     "text": [
      "Best Accuracy :  0.9352818371607515\n",
      "Best Index :  3\n",
      "Best Parameters :  {'solver': 'sparse_cg', 'fit_intercept': True, 'alpha': 1}\n",
      "Best Estimator :  RidgeClassifier(alpha=1, class_weight=None, copy_X=True, fit_intercept=True,\n",
      "        max_iter=None, normalize=False, random_state=None,\n",
      "        solver='sparse_cg', tol=0.001)\n",
      "Mean Time of each validation :  [ 0.05116327  0.01426184  0.01416216  1.2327038   3.61942294  0.23128197\n",
      "  0.24165344  5.24158549  0.52988348 10.3215035 ]\n",
      "Time for all cross-validations of best index :  12.327038049697876 seconds\n",
      "Total Training Time Ridge Classifier :  33.680949687957764 seconds\n"
     ]
    }
   ],
   "source": [
    "best_score_Ridge = classifier_Ridge.best_score_\n",
    "best_index_Ridge = classifier_Ridge.best_index_\n",
    "best_parameters_Ridge = classifier_Ridge.best_params_\n",
    "best_estimator_Ridge = classifier_Ridge.best_estimator_\n",
    "time_for_all_validations_Ridge = classifier_Ridge.cv_results_['mean_fit_time']\n",
    "time_best_index_Ridge = time_for_all_validations_Ridge[best_index_Ridge]\n",
    "\n",
    "print('Best Accuracy : ', best_score_Ridge)\n",
    "print('Best Index : ', best_index_Ridge)\n",
    "print('Best Parameters : ', best_parameters_Ridge)\n",
    "print('Best Estimator : ', best_estimator_Ridge)\n",
    "print('Mean Time of each validation : ', time_for_all_validations_Ridge)\n",
    "print('Time for all cross-validations of best index : ', time_best_index_Ridge*no_cv, 'seconds')\n",
    "\n",
    "training_time_Ridge = end_training_Ridge - start_training_Ridge\n",
    "print('Total Training Time Ridge Classifier : ', training_time_Ridge, 'seconds')"
   ]
  },
  {
   "cell_type": "code",
   "execution_count": 71,
   "metadata": {},
   "outputs": [
    {
     "name": "stdout",
     "output_type": "stream",
     "text": [
      "Predicted Labels :  [6 9 3 7 2 2 5 2 5 3 1 9 4 0 4 2 3 7 9 8 4 3 9 7 5 6 3 5 6 3 4 9 1 4 4 6 9\n",
      " 4 7 6 6 9 1 3 6 1 3 0 6 5 5 1 9 5 6 0 9 0 0 1 0 4 5 2 4 5 7 0 7 5 9 9 5 4\n",
      " 7 0 7 5 5 9 9 0 2 3 8 0 6 4 4 9 1 2 8 3 5 2 9 0 4 4 4 3 5 3 1 3 5 9 4 2 7\n",
      " 7 4 4 1 9 2 7 8 7 2 6 9 4 0 7 2 7 5 8 7 5 7 5 0 6 6 4 2 8 0 9 4 6 9 9 6 9\n",
      " 0 3 5 6 6 0 6 4 3 9 3 8 7 2 9 0 0 5 3 6 5 8 9 8 4 2 1 3 7 7 2 2 3 9 8 0 3\n",
      " 2 3 5 6 9 9 4 1 5 4 2 3 6 4 8 5 9 5 7 8 9 4 8 1 5 4 4 9 6 1 8 6 0 4 5 2 7\n",
      " 1 6 4 5 6 0 3 2 3 6 7 9 9 1 4 7 6 5 1 5 5 1 5 2 8 8 9 5 7 6 2 2 2 3 4 8 8\n",
      " 3 6 0 9 7 7 0 1 0 4 5 1 5 3 6 0 4 1 0 0 3 6 5 9 7 3 5 5 9 9 8 5 3 3 2 0 5\n",
      " 8 3 4 0 2 4 6 4 3 4 5 0 5 2 1 3 1 4 1 1 7 0 1 5 2 1 2 8 7 0 6 4 8 1 5 1 8\n",
      " 4 5 8 7 9 8 6 0 6 2 0 7 9 8 9 5 2 7 7 1 8 7 4 3 2 3 5]\n",
      "Actual Labels :  [6 9 3 7 2 1 5 2 5 2 1 9 4 0 4 2 3 7 8 8 4 3 9 7 5 6 3 5 6 3 4 9 1 4 4 6 9\n",
      " 4 7 6 6 9 1 3 6 1 3 0 6 5 5 1 9 5 6 0 9 0 0 1 0 4 5 2 4 5 7 0 7 5 9 5 5 4\n",
      " 7 0 4 5 5 9 9 0 2 3 8 0 6 4 4 9 1 2 8 3 5 2 9 0 4 4 4 3 5 3 1 3 5 9 4 2 7\n",
      " 7 4 4 1 9 2 7 8 7 2 6 9 4 0 7 2 7 5 8 7 5 7 7 0 6 6 4 2 8 0 9 4 6 9 9 6 9\n",
      " 0 3 5 6 6 0 6 4 3 9 3 9 7 2 9 0 4 5 3 6 5 9 9 8 4 2 1 3 7 7 2 2 3 9 8 0 3\n",
      " 2 2 5 6 9 9 4 1 5 4 2 3 6 4 8 5 9 5 7 8 9 4 8 1 5 4 4 9 6 1 8 6 0 4 5 2 7\n",
      " 4 6 4 5 6 0 3 2 3 6 7 1 5 1 4 7 6 8 8 5 5 1 6 2 8 8 9 9 7 6 2 2 2 3 4 8 8\n",
      " 3 6 0 9 7 7 0 1 0 4 5 1 5 3 6 0 4 1 0 0 3 6 5 9 7 3 5 5 9 9 8 5 3 3 2 0 5\n",
      " 8 3 4 0 2 4 6 4 3 4 5 0 5 2 1 3 1 4 1 1 7 0 1 5 2 1 2 8 7 0 6 4 8 8 5 1 8\n",
      " 4 5 8 7 9 8 5 0 6 2 0 7 9 8 9 5 2 7 7 1 8 7 4 3 8 3 5]\n",
      "Predicted Labels Shape :  (360,)\n",
      "Actual Labels Shape :  (360,)\n",
      "Test Accuracy :  0.9444444444444444\n",
      "Testing Time :  0.0\n"
     ]
    }
   ],
   "source": [
    "start_testing_Ridge = time.time()\n",
    "predict_Ridge = classifier_Ridge.predict(test_dataset)\n",
    "end_testing_Ridge = time.time()\n",
    "\n",
    "print('Predicted Labels : ', predict_Ridge)\n",
    "print('Actual Labels : ', y_test)\n",
    "print('Predicted Labels Shape : ', predict_Ridge.shape)\n",
    "print('Actual Labels Shape : ', y_test.shape)\n",
    "\n",
    "test_score_Ridge = classifier_Ridge.score(test_dataset, y_test)\n",
    "print('Test Accuracy : ', test_score_Ridge)\n",
    "\n",
    "testing_time_Ridge = end_testing_Ridge - start_testing_Ridge\n",
    "print('Testing Time : ', testing_time_Ridge)"
   ]
  },
  {
   "cell_type": "code",
   "execution_count": 72,
   "metadata": {},
   "outputs": [
    {
     "name": "stdout",
     "output_type": "stream",
     "text": [
      "Predicted Labels :  [6 9 3 7 2 2 5 2 5 3 1 9 4 0 4 2 3 7 9 8 4 3 9 7 5 6 3 5 6 3 4 9 1 4 4 6 9\n",
      " 4 7 6 6 9 1 3 6 1 3 0 6 5 5 1 9 5 6 0 9 0 0 1 0 4 5 2 4 5 7 0 7 5 9 9 5 4\n",
      " 7 0 7 5 5 9 9 0 2 3 8 0 6 4 4 9 1 2 8 3 5 2 9 0 4 4 4 3 5 3 1 3 5 9 4 2 7\n",
      " 7 4 4 1 9 2 7 8 7 2 6 9 4 0 7 2 7 5 8 7 5 7 5 0 6 6 4 2 8 0 9 4 6 9 9 6 9\n",
      " 0 3 5 6 6 0 6 4 3 9 3 8 7 2 9 0 0 5 3 6 5 8 9 8 4 2 1 3 7 7 2 2 3 9 8 0 3\n",
      " 2 3 5 6 9 9 4 1 5 4 2 3 6 4 8 5 9 5 7 8 9 4 8 1 5 4 4 9 6 1 8 6 0 4 5 2 7\n",
      " 1 6 4 5 6 0 3 2 3 6 7 9 9 1 4 7 6 5 1 5 5 1 5 2 8 8 9 5 7 6 2 2 2 3 4 8 8\n",
      " 3 6 0 9 7 7 0 1 0 4 5 1 5 3 6 0 4 1 0 0 3 6 5 9 7 3 5 5 9 9 8 5 3 3 2 0 5\n",
      " 8 3 4 0 2 4 6 4 3 4 5 0 5 2 1 3 1 4 1 1 7 0 1 5 2 1 2 8 7 0 6 4 8 1 5 1 8\n",
      " 4 5 8 7 9 8 6 0 6 2 0 7 9 8 9 5 2 7 7 1 8 7 4 3 2 3 5]\n",
      "Test Accuracy :  0.9444444444444444\n",
      "Testing Time :  0.000997304916381836\n"
     ]
    }
   ],
   "source": [
    "# To save model\n",
    "model_Ridge = \"Model_Ridge.pkl\"  \n",
    "joblib.dump(classifier_Ridge, model_Ridge)\n",
    "\n",
    "# To load model\n",
    "loaded_model_Ridge = joblib.load(model_Ridge)\n",
    "\n",
    "# Operations with loaded model\n",
    "start_testing_Ridge = time.time()\n",
    "predict_Ridge = loaded_model_Ridge.predict(test_dataset)\n",
    "#predict_prob_Ridge = loaded_model_Ridge.predict_proba(test_dataset)\n",
    "end_testing_Ridge = time.time()\n",
    "\n",
    "print('Predicted Labels : ', predict_Ridge)\n",
    "test_score_Ridge = metrics.accuracy_score(y_test, predict_Ridge)\n",
    "print('Test Accuracy : ', test_score_Ridge)\n",
    "\n",
    "testing_time_Ridge = end_testing_Ridge - start_testing_Ridge\n",
    "print('Testing Time : ', testing_time_Ridge)"
   ]
  },
  {
   "cell_type": "markdown",
   "metadata": {},
   "source": [
    "# Create & Save Table"
   ]
  },
  {
   "cell_type": "markdown",
   "metadata": {},
   "source": [
    "### Rounding-off the numbers to show in table"
   ]
  },
  {
   "cell_type": "code",
   "execution_count": 73,
   "metadata": {},
   "outputs": [],
   "source": [
    "# Decision Tree Classifier\n",
    "trn_acc_DT  = np.round(best_score_DT, 2)\n",
    "trn_t_DT    = np.round(time_best_index_DT*no_cv, 2)\n",
    "tst_acc_DT  = np.round(test_score_Decision_Tree, 2)\n",
    "tst_t_DT    = np.round(testing_time_Decision_Tree, 2)\n",
    "\n",
    "# Random Forest Classifier\n",
    "trn_acc_RF  = np.round(best_score_RF, 2)\n",
    "trn_t_RF    = np.round(time_best_index_RF*no_cv, 2)\n",
    "tst_acc_RF  = np.round(test_score_Random_Forest, 2)\n",
    "tst_t_RF    = np.round(testing_time_Random_Forest, 2)\n",
    "\n",
    "# Multi-Layer PErceptron Classifier\n",
    "trn_acc_MLP  = np.round(best_score_MLP, 2)\n",
    "trn_t_MLP    = np.round(time_best_index_MLP*no_cv, 2)\n",
    "tst_acc_MLP  = np.round(test_score_MLP, 2)\n",
    "tst_t_MLP    = np.round(testing_time_MLP, 2)\n",
    "\n",
    "# AdaBoost classifier\n",
    "trn_acc_AB  = np.round(best_score_AB, 2)\n",
    "trn_t_AB    = np.round(time_best_index_AB*no_cv, 2)\n",
    "tst_acc_AB  = np.round(test_score_AdaBoost, 2)\n",
    "tst_t_AB    = np.round(testing_time_AdaBoost, 2)\n",
    "\n",
    "\n",
    "# K-Neighbours Classifier\n",
    "trn_acc_KNN  = np.round(best_score_KNN, 2)\n",
    "trn_t_KNN    = np.round(time_best_index_KNN*no_cv, 2)\n",
    "tst_acc_KNN  = np.round(test_score_KNN, 2)\n",
    "tst_t_KNN    = np.round(testing_time_KNN, 2)\n",
    "\n",
    "# Support Vector Machine\n",
    "trn_acc_SVM  = np.round(best_score_SVM, 2)\n",
    "trn_t_SVM    = np.round(time_best_index_SVM*no_cv, 2)\n",
    "tst_acc_SVM  = np.round(test_score_SVM, 2)\n",
    "tst_t_SVM    = np.round(testing_time_SVM, 2)\n",
    "\n",
    "# Linear Regression Classifier\n",
    "trn_acc_LR  = np.round(best_score_LR, 2)\n",
    "trn_t_LR    = np.round(time_best_index_LR*no_cv, 2)\n",
    "tst_acc_LR  = np.round(test_score_Linear_Reg, 2)\n",
    "tst_t_LR    = np.round(testing_time_Linear_Reg, 2)\n",
    "\n",
    "# Multinomial Naive Bayes Classifier\n",
    "trn_acc_MNB  = np.round(best_score_MNB, 2)\n",
    "trn_t_MNB    = np.round(time_best_index_MNB*no_cv, 2)\n",
    "tst_acc_MNB  = np.round(test_score_Multinomial_NB, 2)\n",
    "tst_t_MNB    = np.round(testing_time_Multinomial_NB, 2)\n",
    "\n",
    "# Ridge Classifier\n",
    "trn_acc_RDG  = np.round(best_score_Ridge, 2)\n",
    "trn_t_RDG    = np.round(time_best_index_Ridge*no_cv, 2)\n",
    "tst_acc_RDG  = np.round(test_score_Ridge, 2)\n",
    "tst_t_RDG    = np.round(testing_time_Ridge, 2)"
   ]
  },
  {
   "cell_type": "code",
   "execution_count": 74,
   "metadata": {},
   "outputs": [
    {
     "name": "stderr",
     "output_type": "stream",
     "text": [
      "C:\\Users\\Shoaib\\Anaconda3\\lib\\site-packages\\matplotlib\\cbook\\deprecation.py:107: MatplotlibDeprecationWarning: Passing one of 'on', 'true', 'off', 'false' as a boolean is deprecated; use an actual boolean (True/False) instead.\n",
      "  warnings.warn(message, mplDeprecation, stacklevel=1)\n"
     ]
    },
    {
     "data": {
      "image/png": "[encoded data removed]",
      "text/plain": [
       "<Figure size 864x72 with 1 Axes>"
      ]
     },
     "metadata": {},
     "output_type": "display_data"
    },
    {
     "data": {
      "text/plain": [
       "<Figure size 432x288 with 0 Axes>"
      ]
     },
     "metadata": {},
     "output_type": "display_data"
    }
   ],
   "source": [
    "fig = plt.figure(figsize=(12,1))\n",
    "t_data = ((trn_acc_DT, trn_t_DT, tst_acc_DT, tst_t_DT),\n",
    "          (trn_acc_RF, trn_t_RF, tst_acc_RF, tst_t_RF),\n",
    "          (trn_acc_MLP, trn_t_MLP, tst_acc_MLP, tst_t_MLP),\n",
    "          (trn_acc_AB, trn_t_AB, tst_acc_AB, tst_t_AB),\n",
    "          (trn_acc_KNN, trn_t_KNN, tst_acc_KNN, tst_t_KNN),\n",
    "          (trn_acc_SVM, trn_t_SVM, tst_acc_SVM, tst_t_SVM),\n",
    "          (trn_acc_LR, trn_t_LR, tst_acc_LR, tst_t_LR),\n",
    "          (trn_acc_MNB, trn_t_MNB, tst_acc_MNB, tst_t_MNB),\n",
    "          (trn_acc_RDG, trn_t_RDG, tst_acc_RDG, tst_t_RDG))\n",
    "\n",
    "table = plt.table(cellText = t_data, colLabels = ('Train Accuracy', 'Train Time', 'Test Accuracy', 'Test Time'),\n",
    "                  rowLabels = ('Decision Tree', 'Random Forest', 'Multi-Layer Perceptron', 'AdaBoost', 'K-Neighbours', 'SVM',\n",
    "                                'Linear Regression', 'Multinomial Naive Bayes', 'Ridge'), loc='center')\n",
    "\n",
    "plt.axis('off')\n",
    "plt.grid('off')\n",
    "plt.show()\n",
    "plt.savefig('table.jpg')"
   ]
  }
 ],
 "metadata": {
  "anaconda-cloud": {},
  "kernelspec": {
   "display_name": "Python 3",
   "language": "python",
   "name": "python3"
  },
  "language_info": {
   "codemirror_mode": {
    "name": "ipython",
    "version": 3
   },
   "file_extension": ".py",
   "mimetype": "text/x-python",
   "name": "python",
   "nbconvert_exporter": "python",
   "pygments_lexer": "ipython3",
   "version": "3.6.5"
  }
 },
 "nbformat": 4,
 "nbformat_minor": 2
}
